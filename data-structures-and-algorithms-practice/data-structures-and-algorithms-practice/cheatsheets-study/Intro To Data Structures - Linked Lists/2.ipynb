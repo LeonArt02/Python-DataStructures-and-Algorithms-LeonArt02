{
 "cells": [
  {
   "cell_type": "markdown",
   "metadata": {},
   "source": [
    "## 💙 Doubly Linked List Overview\n",
    "\n",
    "A Doubly Linked List is a complex type of linked list where a node contains a pointer to the previous as well as th enext node in the sequence. Therefore, in a doubly-linked list, a node consists of three components: node data, pointer to the next node in node(next pointer), pointer to the former node (previous pointer).\n",
    "\n",
    "A doubly linked list has more efficient iteration, particularly if you need to ever iterate in reverse and more efficient deletion of particular nodes.\n",
    "\n",
    "<img title=\"a title\" alt=\"Alt text\" src=\"./images/doubly-linked-list-1.png\" width=320>\n",
    "\n",
    "**[GeeksForGeeks](https://www.geeksforgeeks.org/data-structures/linked-list/doubly-linked-list/) Definition**\n",
    "\n",
    "A doubly linked list (DLL) is a special type of linked list in which each node contains a pointer to the previous node as well as the next node of the linked list.\n",
    "\n",
    "<img title=\"a title\" alt=\"Alt text\" src=\"./images/DLL1.png\" width=550>"
   ]
  },
  {
   "cell_type": "markdown",
   "metadata": {},
   "source": [
    "### Python implementation of Doubly Linked List\n",
    "\n",
    "We will first create a Node class with three attributes:\n",
    "- The data value\n",
    "- Previous pointer\n",
    "- Next pointer"
   ]
  },
  {
   "cell_type": "code",
   "execution_count": null,
   "metadata": {},
   "outputs": [],
   "source": [
    "class Node:\n",
    "    def __init__(self, value=None, next=None, prev=None):\n",
    "        self.value = value\n",
    "        self.next = next\n",
    "        self.prev = prev\n",
    "    \n",
    "    # optional, added by myself\n",
    "    def set_prev(self, prev):\n",
    "        self.prev = prev\n",
    "    \n",
    "    def get_prev(self):\n",
    "        return self.prev\n",
    "    \n",
    "    def set_next(self, next):\n",
    "        self.next = next\n",
    "\n",
    "    def get_next(self):\n",
    "        return self.next\n",
    "    \n",
    "    def get_value(self):\n",
    "        return self.value"
   ]
  },
  {
   "cell_type": "markdown",
   "metadata": {},
   "source": [
    "Now we will create a Doubly Linked List class. (geeksforgeeks)\n",
    "A doubly linked list (DLL) is a special type of linked list in which each node contains a pointer to the previous node as well as the next node of the linked list.\n",
    "\n"
   ]
  },
  {
   "cell_type": "code",
   "execution_count": null,
   "metadata": {},
   "outputs": [],
   "source": [
    "# Insertion in a Doubly Linked List\n",
    "# "
   ]
  }
 ],
 "metadata": {
  "language_info": {
   "name": "python"
  }
 },
 "nbformat": 4,
 "nbformat_minor": 2
}
