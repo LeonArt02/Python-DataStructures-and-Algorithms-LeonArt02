{
 "cells": [
  {
   "cell_type": "markdown",
   "metadata": {},
   "source": [
    "## 💙 Doubly Linked List Overview\n",
    "\n",
    "A Doubly Linked List is a complex type of linked list where a node contains a pointer to the previous as well as th enext node in the sequence. Therefore, in a doubly-linked list, a node consists of three components: node data, pointer to the next node in node(next pointer), pointer to the former node (previous pointer).\n",
    "\n",
    "A doubly linked list has more efficient iteration, particularly if you need to ever iterate in reverse and more efficient deletion of particular nodes.\n",
    "\n",
    "<img title=\"a title\" alt=\"Alt text\" src=\"./images/doubly-linked-list-1.png\" width=320>\n",
    "\n",
    "**[GeeksForGeeks](https://www.geeksforgeeks.org/data-structures/linked-list/doubly-linked-list/) Definition**\n",
    "\n",
    "A doubly linked list (DLL) is a special type of linked list in which each node contains a pointer to the previous node as well as the next node of the linked list.\n",
    "\n",
    "<img title=\"a title\" alt=\"Alt text\" src=\"./images/DLL1.png\" width=550>"
   ]
  },
  {
   "cell_type": "markdown",
   "metadata": {},
   "source": [
    "### Python implementation of Doubly Linked List [(geeksforgeeks)](https://www.geeksforgeeks.org/data-structures/linked-list/doubly-linked-list/)\n",
    "We will first create a Node class with three attributes:\n",
    "- The data value\n",
    "- Previous pointer\n",
    "- Next pointer"
   ]
  },
  {
   "cell_type": "code",
   "execution_count": 85,
   "metadata": {},
   "outputs": [],
   "source": [
    "class Node:\n",
    "    def __init__(self, value=None, next=None, prev=None):\n",
    "        self.value = value\n",
    "        self.next = next # reference to the next node\n",
    "        self.prev = prev # reference to the previous node"
   ]
  },
  {
   "cell_type": "markdown",
   "metadata": {},
   "source": [
    "Now we will create a Doubly Linked List class. (geeksforgeeks)\n",
    "A doubly linked list (DLL) is a special type of linked list in which each node contains a pointer to the previous node as well as the next node of the linked list.\n",
    "\n",
    "We will create a full DLL class with it´s methods and then will explain them later.\n",
    "\n"
   ]
  },
  {
   "cell_type": "code",
   "execution_count": 86,
   "metadata": {},
   "outputs": [],
   "source": [
    "# Doubly Linked List Class declaration\n",
    "class DoublyLinkedList:\n",
    "    def __init__(self):\n",
    "        self.head = None\n",
    "        self.tail = None\n",
    "        \n",
    "        \n",
    "    def get_nth_node(self, index):\n",
    "        \"\"\"Return node of specified index\"\"\"\n",
    "        \n",
    "    \n",
    "    # Adding a node at the front of the list\n",
    "    def push(self, new_data):\n",
    "        new_node = Node(value=new_data)\n",
    "        new_node.next = self.head\n",
    "        new_node.prev = None\n",
    "        \n",
    "        if self.head != None:\n",
    "            self.head.prev = new_node\n",
    "        self.head = new_node\n",
    "\n",
    "    def stringify_list(self):\n",
    "        string_list = ''\n",
    "        curr = self.head # current node\n",
    "        while curr:\n",
    "            if curr.value != None:\n",
    "                string_list += str(curr.value) + ' <-> '\n",
    "            curr = curr.next\n",
    "        return string_list\n",
    "    \n",
    "    # Add a node in between two nodes:\n",
    "    # given a node as prev_nove, insert\n",
    "    # a new node after the given node\n",
    "    def insert_after(self, prev_node, new_data):\n",
    "        if prev_node is None:\n",
    "            print('This node doen´t exist in DLL')\n",
    "            return\n",
    "\n",
    "        new_node = Node(value=new_data)\n",
    "        new_node.next = prev_node.next\n",
    "        prev_node.next = new_node\n",
    "        new_node.prev = prev_node\n",
    "        \n",
    "        if new_node.next != None:\n",
    "            new_node.next.prev = new_node\n",
    "\n",
    "    # Add a node at the end of the DLL\n",
    "    def append(self, new_data):\n",
    "        new_node = Node(value=new_data)\n",
    "        last = self.head\n",
    "        \n",
    "#         new_node.next = None\n",
    "        \n",
    "        # if DLL is empty\n",
    "        if self.head == None:\n",
    "            new_node.prev = None\n",
    "            self.head = new_node\n",
    "            return\n",
    "        \n",
    "        # else traverse till the last node\n",
    "        while last.next != None:\n",
    "            last = last.next\n",
    "        \n",
    "        last.next = new_node\n",
    "        new_node.prev = last"
   ]
  },
  {
   "cell_type": "code",
   "execution_count": 87,
   "metadata": {},
   "outputs": [
    {
     "name": "stdout",
     "output_type": "stream",
     "text": [
      "99 <-> 100 <-> 101 <-> \n",
      "99 <-> 100 <-> 101 <-> 102 <-> \n",
      "DDL head: 99\n"
     ]
    }
   ],
   "source": [
    "\n",
    "# Test DLL\n",
    "\n",
    "my_fist_ddl = DoublyLinkedList()\n",
    "my_fist_ddl.push(101)\n",
    "my_fist_ddl.push(99)\n",
    "\n",
    "my_fist_ddl.insert_after(prev_node=my_fist_ddl.head, new_data=100)\n",
    "print(my_fist_ddl.stringify_list()) # 99 <-> 100 <-> 101\n",
    "\n",
    "my_fist_ddl.append(102)\n",
    "print(my_fist_ddl.stringify_list()) # 99 <-> 100 <-> 101 <-> 102\n",
    "\n",
    "\n",
    "print(f'DDL head: {my_fist_ddl.head.value}') # 99\n"
   ]
  },
  {
   "cell_type": "markdown",
   "metadata": {},
   "source": [
    "```python\n",
    "# NO PRESTAR ATENCIÓN\n",
    "   \n",
    "    # set last node as tail\n",
    "    def set_tail(self):\n",
    "        curr = self.head\n",
    "        while curr != None:\n",
    "            if curr.next == None:\n",
    "                self.tail = curr\n",
    "            else:\n",
    "                curr = curr.next\n",
    "        #self.tail = curr\n",
    "    \n",
    "```"
   ]
  }
 ],
 "metadata": {
  "kernelspec": {
   "display_name": "Python 3",
   "language": "python",
   "name": "python3"
  },
  "language_info": {
   "codemirror_mode": {
    "name": "ipython",
    "version": 3
   },
   "file_extension": ".py",
   "mimetype": "text/x-python",
   "name": "python",
   "nbconvert_exporter": "python",
   "pygments_lexer": "ipython3",
   "version": "3.12.0"
  }
 },
 "nbformat": 4,
 "nbformat_minor": 2
}
