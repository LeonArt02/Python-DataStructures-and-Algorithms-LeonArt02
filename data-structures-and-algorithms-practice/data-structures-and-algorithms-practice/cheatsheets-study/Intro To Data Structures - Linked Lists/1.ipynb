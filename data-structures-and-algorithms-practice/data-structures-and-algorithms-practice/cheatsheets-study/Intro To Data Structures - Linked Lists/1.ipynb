{
 "cells": [
  {
   "cell_type": "markdown",
   "metadata": {},
   "source": [
    "[Source](https://www.codecademy.com/learn/cscj-22-linked-lists/modules/cscj-22-python-nodes/cheatsheet)\n",
    "\n",
    "## 💙 **Nodes**\n",
    "\n",
    "#### **Node: An individual part of a larger data structure**\n",
    "Nodes are a basic data structure which contain data and one or more links to another nodes. Nodes can be used to represent a tree structure or a linked list. In such structures where nodes are used, it is possible to traverse from one node to another node.\n",
    "\n",
    "<img title=\"a title\" alt=\"Alt text\" src=\"./images/many-nodes.webp\" width=450>\n",
    "\n",
    "#### **Orphaned Nodes**\n",
    "Nodes that have no links pointing to them except for the head node, are considered 'orphaned'.\n",
    "In the illustration, if the nodes `a2` and `a5` are removed, they will be orphaned.\n",
    "\n",
    "<img title=\"a title\" alt=\"Alt text\" src=\"./images/orphaned_nodes.png\" width=450>\n",
    "\n",
    "\n",
    "#### **Null Node link**\n",
    "Data structures containing nodes have typically two bits of information stored in a noded: data and link to next node.\n",
    "\n",
    "The first part is a value and the second part is an address of sorts pointing to the next node.\n",
    "In this way, a system of nodes is created. A `NULL` value in the link part of a node´s info denotes that the path or data structure contains no further nodes.\n",
    "\n",
    "#### **Python Node implementation**\n",
    "A Node is a data structure that stores a value that can be of any data dype and has a pointer to another node.\n",
    "The implementation of a Node class in a programming language such as Python, should have methods to get the value that is stored in the Node, to get the next node, and to set a link to the next node.\n",
    "\n"
   ]
  },
  {
   "cell_type": "code",
   "execution_count": 26,
   "metadata": {},
   "outputs": [],
   "source": [
    "class Node:\n",
    "    def __init__(self, value, next=None):\n",
    "        self.value = value\n",
    "        self.next = next\n",
    "\n",
    "    def set_next(self, next):\n",
    "        self.next = next\n",
    "\n",
    "    def get_next(self):\n",
    "        return self.next\n",
    "    \n",
    "    def get_value(self):\n",
    "        return self.value"
   ]
  },
  {
   "cell_type": "markdown",
   "metadata": {},
   "source": [
    "Let´s see some node examples:"
   ]
  },
  {
   "cell_type": "code",
   "execution_count": 27,
   "metadata": {},
   "outputs": [
    {
     "name": "stdout",
     "output_type": "stream",
     "text": [
      "10\n",
      "20\n"
     ]
    }
   ],
   "source": [
    "my_first_node = Node(10)\n",
    "\n",
    "my_second_node = Node(20)\n",
    "\n",
    "# set 1st node next_node property to be the second node\n",
    "my_first_node.set_next(my_second_node)\n",
    "# [10]->[20]\n",
    "\n",
    "# print first node value\n",
    "print(my_first_node.get_value()) # 10\n",
    "\n",
    "# print next node from the first node\n",
    "second = my_first_node.get_next()\n",
    "print(second.get_value()) # 20"
   ]
  },
  {
   "cell_type": "markdown",
   "metadata": {},
   "source": [
    "## 💙 Linked List Data Structure\n",
    "\n",
    "A `linked list` is a data structure that consists of a list of `nodes`. Each node contains data  and a link to the next node. \n",
    "\n",
    "A linked list is a linear data structure where elements are not stored at contiguous location. Instead the elements are linked using pointers.\n",
    "\n",
    "In a linked list data is stored in nodes and each node is linked to the next and, optionally, to the previous. Each node in a list consists of the following parts:\n",
    "1. Data\n",
    "2. A pointer (or reference) to the next node\n",
    "3. Optionally, a pointer to the previous node\n",
    "\n",
    "<img title=\"a title\" alt=\"Alt text\" src=\"./images/Linkedlist.png\" width=500>\n",
    "\n",
    "As shown bellow, you can Implement a `LinkedList` class in Python, utilizing a Python implementation of the `Node` class.\n"
   ]
  },
  {
   "cell_type": "code",
   "execution_count": 28,
   "metadata": {},
   "outputs": [],
   "source": [
    "class LinkedList:\n",
    "    def __init__(self, value=None):\n",
    "        self.head = Node(value)\n",
    "\n",
    "    def get_head(self):\n",
    "        return self.head\n",
    "\n",
    "    def insert_beginning(self, new_value):\n",
    "        new_node = Node(new_value)\n",
    "        new_node.set_next(self.head)\n",
    "        self.head = new_node\n",
    "        \n",
    "    # self made\n",
    "    def insert_end(self,new_value):\n",
    "        new_node = Node(new_value)\n",
    "        curr = self.get_head() # current node\n",
    "        while curr:\n",
    "            if curr.get_next() == None:\n",
    "                # Append node\n",
    "                curr.next = new_node\n",
    "                curr = False\n",
    "            else:\n",
    "                curr = curr.get_next()\n",
    "        \n",
    "    def stringify_list(self):\n",
    "        string_list = ''\n",
    "        curr = self.get_head() # current node\n",
    "        while curr:\n",
    "            if curr.get_value() != None:\n",
    "                string_list += str(curr.get_value()) + '\\n'\n",
    "            curr = curr.get_next()\n",
    "        return string_list\n",
    "\n",
    "    def remove(self, value_to_remove):\n",
    "        curr = self.get_head()\n",
    "        if curr.get_value() == value_to_remove:\n",
    "            self.head = curr.get_next()\n",
    "        else:\n",
    "            while curr:\n",
    "                next_node = curr.get_next()\n",
    "                if next_node.get_value() == value_to_remove:\n",
    "                    curr.set_next(next_node.get_next())\n",
    "                    curr = None\n",
    "                else:\n",
    "                    curr = next_node\n",
    "\n"
   ]
  },
  {
   "cell_type": "code",
   "execution_count": 29,
   "metadata": {},
   "outputs": [
    {
     "name": "stdout",
     "output_type": "stream",
     "text": [
      "00\n",
      "10\n",
      "20\n",
      "30\n",
      "\n"
     ]
    }
   ],
   "source": [
    "# Test LinkedList class\n",
    "\n",
    "my_first_ll = LinkedList(10)\n",
    "my_first_ll.insert_beginning('00')\n",
    "my_first_ll.insert_end(20)\n",
    "my_first_ll.insert_end(30)\n",
    "\n",
    "print(my_first_ll.stringify_list())"
   ]
  },
  {
   "cell_type": "markdown",
   "metadata": {},
   "source": [
    "#### **Removing a node from the middle of a linked list**\n",
    "\n",
    "When removing a node from the middle of a linked list, it is necessary to adjust the link on the previous node so that it points to the following node. In the given illustration, the node `a1` must point to the node `a3` if the node a2 is removed from the linked list.\n",
    "\n",
    "<img title=\"a title\" alt=\"Alt text\" src=\"./images/removing_a_node.png\" width=320>\n",
    "\n",
    "#### **Adding a new node in the beginning of the linked list**\n",
    "\n",
    "When adding a new node to the start of a linked list, it is necessary to maintain the list by giving the new head node a link to the current head node. For instance, to add a new node a0 to the begining of the linked list, a0 should point to a1.\n",
    "\n",
    "<img title=\"a title\" alt=\"Alt text\" src=\"./images/new_head_node.png\" width=320>\n",
    "\n"
   ]
  }
 ],
 "metadata": {
  "kernelspec": {
   "display_name": "Python 3",
   "language": "python",
   "name": "python3"
  },
  "language_info": {
   "codemirror_mode": {
    "name": "ipython",
    "version": 3
   },
   "file_extension": ".py",
   "mimetype": "text/x-python",
   "name": "python",
   "nbconvert_exporter": "python",
   "pygments_lexer": "ipython3",
   "version": "3.12.0"
  }
 },
 "nbformat": 4,
 "nbformat_minor": 2
}
