{
 "cells": [
  {
   "cell_type": "markdown",
   "metadata": {},
   "source": [
    "##### [Source](https://www.tutorialspoint.com/python_data_structure/python_linked_lists.htm)\n",
    "\n",
    "## Python Linked List\n",
    "#### tutorialspoint \n",
    "\n",
    "A linked list o"
   ]
  },
  {
   "cell_type": "code",
   "execution_count": null,
   "metadata": {},
   "outputs": [],
   "source": []
  }
 ],
 "metadata": {
  "language_info": {
   "name": "python"
  }
 },
 "nbformat": 4,
 "nbformat_minor": 2
}
