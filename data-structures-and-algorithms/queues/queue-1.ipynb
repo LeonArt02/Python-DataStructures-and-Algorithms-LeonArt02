{
 "cells": [
  {
   "cell_type": "markdown",
   "metadata": {},
   "source": [
    "# 💙 Queue Data Structure\n",
    "\n",
    "- ##### **Queues are First In, First Out:**\n",
    "    In a line (or queue) at a bank, the first person to arrive is the first person to be served. When using a queue to store data, the first elements in are the first elements out.\n",
    "    \n",
    "    <img title=\"a title\" alt=\"GIF representation of a queue \" src=\"./images/queue.gif\" width=400>\n",
    "\n",
    "    If elements are added to a queue in the order `[A,B,C,D,E]`, they will be removed in the same order (`[A,B,C,D,E]`), even if the arrivals and removals are interweaved.\n",
    "    (The animation suggests that the elements in queue 'move forward' when teh first one is removed. In efficient implementations of queues, the elements that are not leaving the queue stay in place, so dequeuing can be implemented as a O(1) operation.)\n",
    "\n",
    "Because of the metaphor used, we often talk about the \"**front**\" and \"**back**\" of a queue.\n",
    "\n",
    "### 📝 Crucial Terms\n",
    "- **Enqueue**: The generic term for adding an object to the '**back**' of que queue.\n",
    "- **Dequeue**: The generic term for removing an object from the '**front**' of the queue.\n",
    "\n",
    "### 🛠 Common Queue operations\n",
    "- `enque(item)`: Puts `item` at the end of the queue, (O(1) Time complexity).\n",
    "- `deque()`: Removes and return the item at the front of the queue, (O(1) Time complexity).\n",
    "- `peek()` or `front()`: Accesses the item at the front of the queue, without removing it, (O(1) Time complexity).\n",
    "- `isEmpty()`: Returns `True` if there are no items in the queue, `False` otherwise, (O(1) Time complexity).\n",
    "\n",
    "### 🧰 Queue Python Implementation\n",
    "\n",
    "There are various ways to implement Queues in Python, these are most common:\n",
    "- Implementation using **List**\n",
    "- Implementation using **collections.deque**\n",
    "- Implementation using **queue.Queue**\n",
    "\n",
    "\n",
    "\n"
   ]
  },
  {
   "cell_type": "code",
   "execution_count": 54,
   "metadata": {},
   "outputs": [],
   "source": [
    "# ~ Queue List Implementation\n",
    "\n",
    "class QueueList:\n",
    "    def __init__(self):\n",
    "        self.items = []\n",
    "\n",
    "    def enqueue(self, value):\n",
    "        \"\"\"Add given item at the back of the queue\"\"\"\n",
    "        self.items.append(value)\n",
    "    \n",
    "    def dequeue(self):\n",
    "        \"\"\"Removes and return the item at the front of the queue\"\"\"\n",
    "        if not self.isEmpty():\n",
    "            return self.items.pop(0)\n",
    "        else:\n",
    "            raise IndexError(\"dequeue from an empty queue\")\n",
    "    \n",
    "    def front(self):\n",
    "        \"\"\"Returns front item without removing it\"\"\"\n",
    "        if not self.isEmpty():\n",
    "            return self.items[0]\n",
    "        else:\n",
    "            raise IndexError(\"front from an empty queue\")\n",
    "\n",
    "    def isEmpty(self):\n",
    "        \"\"\"Returns True if there are no items in the queue, False otherwise\"\"\"\n",
    "        return len(self.items) == 0\n",
    "    \n",
    "    def show_items(self):\n",
    "        \"\"\"Return the full queue as list\"\"\"\n",
    "        return self.items\n"
   ]
  },
  {
   "cell_type": "code",
   "execution_count": 55,
   "metadata": {},
   "outputs": [
    {
     "name": "stdout",
     "output_type": "stream",
     "text": [
      "[10, 20, 30]\n",
      "10\n",
      "20\n"
     ]
    }
   ],
   "source": [
    "# ~ Queue List Implementation Test\n",
    "\n",
    "queue_list = QueueList()\n",
    "\n",
    "queue_list.enqueue(10)\n",
    "queue_list.enqueue(20)\n",
    "queue_list.enqueue(30)\n",
    "\n",
    "print(queue_list.show_items()) # [10, 20, 30] ✅\n",
    "\n",
    "dequeued_item = queue_list.dequeue()\n",
    "print(dequeued_item) # 10 ✅\n",
    "\n",
    "print(queue_list.front()) # 20 ✅\n"
   ]
  },
  {
   "cell_type": "code",
   "execution_count": 56,
   "metadata": {},
   "outputs": [],
   "source": [
    "# ~ Queue using collections.deque Implementation\n",
    "# (https://docs.python.org/3/library/collections.html#collections.deque)\n",
    "\n",
    "from collections import deque\n",
    "\n",
    "class QueueCollections():\n",
    "    def __init__(self, *elements):\n",
    "        self.elements = deque(elements)\n",
    "\n",
    "    def __len__(self):\n",
    "        return len(self.elements)\n",
    "    \n",
    "    def enqueue(self, element):\n",
    "        \"\"\"Add given item at the back of the queue\"\"\"\n",
    "        self.elements.append(element)\n",
    "\n",
    "    def deque(self):\n",
    "        \"\"\"Removes and return the item at the front of the queue\"\"\"\n",
    "        return self.elements.popleft()\n",
    "    \n",
    "    def peek(self):\n",
    "        \"\"\"Returns front item without removing it\"\"\"\n",
    "        return self.elements[0]\n",
    "    \n",
    "    def returnAsList(self):\n",
    "        \"\"\"Returns queue as a list\"\"\"\n",
    "        res = []\n",
    "        for e in self.elements[0]:\n",
    "            res.append(e)\n",
    "        return res"
   ]
  },
  {
   "cell_type": "code",
   "execution_count": 57,
   "metadata": {},
   "outputs": [
    {
     "name": "stdout",
     "output_type": "stream",
     "text": [
      "[10, 15, 20, 25]\n"
     ]
    }
   ],
   "source": [
    "queue_coll = QueueCollections((10,15,20,25))\n",
    "\n",
    "print(queue_coll.returnAsList())\n"
   ]
  },
  {
   "cell_type": "markdown",
   "metadata": {},
   "source": []
  }
 ],
 "metadata": {
  "kernelspec": {
   "display_name": "Python 3",
   "language": "python",
   "name": "python3"
  },
  "language_info": {
   "codemirror_mode": {
    "name": "ipython",
    "version": 3
   },
   "file_extension": ".py",
   "mimetype": "text/x-python",
   "name": "python",
   "nbconvert_exporter": "python",
   "pygments_lexer": "ipython3",
   "version": "3.12.0"
  }
 },
 "nbformat": 4,
 "nbformat_minor": 2
}
