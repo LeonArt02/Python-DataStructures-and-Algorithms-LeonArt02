{
 "cells": [
  {
   "cell_type": "markdown",
   "metadata": {},
   "source": [
    "# 💙 Queue Data Structure\n",
    "\n",
    "- ##### **Queues are First In, First Out:**\n",
    "    In a line (or queue) at a bank, the first person to arrive is the first person to be served. When using a queue to store data, the first elements in are the first elements out.\n",
    "    \n",
    "    <img title=\"a title\" alt=\"GIF representation of a queue \" src=\"./images/queue.gif\" width=400>\n",
    "\n",
    "    If elements are added to a queue in the order [A,B,C,D,E], they will be removed in the same order ([A,B,C,D,E]), even if the arrivals and removals are interweaved.\n",
    "    (The animation suggests that the elements in queue 'move forward' when teh first one is removed. In efficient implementations of queues, the elements that are not leaving the queue stay in place, so dequeuing can be implemented as a O(1) operation.)\n",
    "\n",
    "Because of the metaphor used, we often talk about the \"**front**\" and \"**back**\" of a queue.\n",
    "\n",
    "### Crucial Terms\n",
    "- **Enqueue**: The generic term for adding an object to the '**back**' of que queue.\n",
    "- **Dequeue**: The generic term for removing an object from the '**front**' of the queue.\n",
    "\n",
    "### Common Queues operations\n",
    "- `enque(item)`: Puts `item` at the end of the queue, (O(1) Time complexity).\n",
    "- `deque()`: Removes and return the item at the front of the queue, (O(1) Time complexity).\n",
    "- `peek()`: Accesses the item at the front of the queue, without removing it, (O(1) Time complexity).\n",
    "- `isEmpty()`: Returns `True` if there are no items in the queue, `False` otherwise, (O(1) Time complexity).\n",
    "\n",
    "\n"
   ]
  },
  {
   "cell_type": "code",
   "execution_count": null,
   "metadata": {},
   "outputs": [],
   "source": []
  }
 ],
 "metadata": {
  "language_info": {
   "name": "python"
  }
 },
 "nbformat": 4,
 "nbformat_minor": 2
}
