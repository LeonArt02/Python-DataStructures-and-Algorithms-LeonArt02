{
 "cells": [
  {
   "cell_type": "markdown",
   "metadata": {},
   "source": [
    "*17/2/2024*\n",
    "\n",
    "## What is this course?\n",
    "\n",
    "- Intermediate-Level survey course.\n",
    "- Programming and problem solving, with applications.\n",
    "- Algorithm: method for solving a problem.\n",
    "- Data Structure: method to store information\n",
    "\n",
    "|Topic|Data Structures and Algorithms|\n",
    "|---|---|\n",
    "|data types|stack, queue, bag, union-find, priority queue|\n",
    "|sorting|quicksort, mergesort, heapsort|\n",
    "|searching|BSTM red-black BST, hash table|\n",
    "|graphs|BFS, DFS, Prim, Kruskal, Dijkstra|\n",
    "|strings|radix sorts, tries, KMP, regexps, data compression|\n",
    "|advanced|B-tree, suffix array maxflow|\n",
    "\n",
    "\n",
    "### Why study algorithms?\n",
    "\n",
    "- Their impact is broad and far-reaching, in fields like internet, biology, computer graphics, security, multimedia etc.\n",
    "\n",
    "- To solve problems that could not otherwise be addressed. \n",
    "\n",
    "- For intellectual stimulation.\n",
    "\n",
    "- To become a proficient programmer.\n",
    "\n",
    "- For fun and profit."
   ]
  },
  {
   "cell_type": "code",
   "execution_count": null,
   "metadata": {},
   "outputs": [],
   "source": []
  }
 ],
 "metadata": {
  "language_info": {
   "name": "python"
  }
 },
 "nbformat": 4,
 "nbformat_minor": 2
}
