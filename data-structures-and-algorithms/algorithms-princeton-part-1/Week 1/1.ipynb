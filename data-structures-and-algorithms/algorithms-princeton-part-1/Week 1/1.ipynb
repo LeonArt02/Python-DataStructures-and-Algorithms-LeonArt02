{
 "cells": [
  {
   "cell_type": "markdown",
   "metadata": {},
   "source": [
    "## What is this course?\n",
    "\n",
    "- Intermediate-Level survey course.\n",
    "- Programming and problem solving, with applications.\n",
    "- Algorithm: method for solving a problem.\n",
    "- Data Structure: method to store information\n",
    "\n",
    "|Topic|Data Structures and Algorithms|\n",
    "|---|---|\n",
    "|data types|stack, queue, bag, union-find, priority queue|\n",
    "|sorting|quicksort, mergesort, heapsort|\n",
    "|searching|BSTM red-black BST, hash table|\n",
    "|graphs|BFS, DFS, Prim, Kruskal, Dijkstra|\n",
    "|strings|radix sorts, tries, KMP, regexps, data compression|\n",
    "|advanced|B-tree, suffix array maxflow|\n",
    "\n"
   ]
  },
  {
   "cell_type": "code",
   "execution_count": null,
   "metadata": {},
   "outputs": [],
   "source": []
  }
 ],
 "metadata": {
  "language_info": {
   "name": "python"
  }
 },
 "nbformat": 4,
 "nbformat_minor": 2
}
