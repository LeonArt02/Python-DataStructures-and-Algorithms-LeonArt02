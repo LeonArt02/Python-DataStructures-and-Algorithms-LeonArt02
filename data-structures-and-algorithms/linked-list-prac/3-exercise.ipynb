{
 "cells": [
  {
   "cell_type": "markdown",
   "metadata": {},
   "source": [
    "## 💙 Python: Linked List - Exercises, Practice, Solution\n",
    "[**w3resource source**](https://www.w3resource.com/python-exercises/data-structures-and-algorithms/python-linked-list.php)\n",
    "\n",
    "#### 1. Write a Python program to create a singly linked list, append some items and iterate through the list."
   ]
  },
  {
   "cell_type": "code",
   "execution_count": 53,
   "metadata": {},
   "outputs": [
    {
     "name": "stdout",
     "output_type": "stream",
     "text": [
      "Python\n",
      "C++\n",
      "C#\n",
      "TypeScript\n",
      "Java\n"
     ]
    }
   ],
   "source": [
    "# 1. ✅\n",
    "\n",
    "\"\"\"Write a Python program to create a singly linked list, \n",
    "append some items and iterate through the list.\"\"\"\n",
    "\n",
    "class Node:\n",
    "    def __init__(self, val):\n",
    "        self.val = val\n",
    "        self.next = None\n",
    "\n",
    "class SinglyLinkedList1:\n",
    "    def __init__(self):\n",
    "        self.head = None\n",
    "        self.tail = None\n",
    "        self.count = 0\n",
    "\n",
    "    def iterate_item(self):\n",
    "        # iterate SLL\n",
    "        curr = self.head\n",
    "        while curr:\n",
    "            value = curr.val\n",
    "            curr = curr.next\n",
    "            yield value\n",
    "\n",
    "    def append_node(self, val):\n",
    "        new_node = Node(val=val)\n",
    "        if self.tail:\n",
    "            self.tail.next = new_node\n",
    "            self.tail = new_node\n",
    "        else:\n",
    "            self.head = new_node\n",
    "            self.tail = new_node\n",
    "        self.count += 1\n",
    "            \n",
    "# yield explanation (https://www.geeksforgeeks.org/use-yield-keyword-instead-return-keyword-python/)\n",
    "\n",
    "list_test1 = SinglyLinkedList1()\n",
    "list_test1.append_node('Python')\n",
    "list_test1.append_node('C++')\n",
    "list_test1.append_node('C#')\n",
    "list_test1.append_node('TypeScript')\n",
    "list_test1.append_node('Java')\n",
    "\n",
    "for i in list_test1.iterate_item():\n",
    "    print(i) # ✅"
   ]
  },
  {
   "cell_type": "markdown",
   "metadata": {},
   "source": [
    "---\n",
    "\n",
    "#### 2. Write a Python program to find the size of a singly linked list."
   ]
  },
  {
   "cell_type": "code",
   "execution_count": 54,
   "metadata": {},
   "outputs": [
    {
     "name": "stdout",
     "output_type": "stream",
     "text": [
      "River Plate\n",
      "Boca Juniors\n",
      "Independiente\n",
      "Racing\n",
      "San Lorenzo\n",
      "~ sll2 Linked List Size: 5\n"
     ]
    }
   ],
   "source": [
    "# 2. ✅\n",
    "\n",
    "\"\"\"Write a Python program to find the size of a singly linked list.\"\"\"\n",
    "\n",
    "class Node:\n",
    "    def __init__(self, val=None):\n",
    "        self.val = val\n",
    "        self.next = None\n",
    "\n",
    "class SinglyLinkedList2:\n",
    "    def __init__(self):\n",
    "        self.head = None\n",
    "        self.tail = None\n",
    "\n",
    "    def append(self, val):\n",
    "        new_node = Node(val=val)\n",
    "        \n",
    "        if self.tail:\n",
    "            self.tail.next = new_node\n",
    "            self.tail = new_node\n",
    "        else:\n",
    "            self.head = new_node\n",
    "            self.tail = new_node\n",
    "\n",
    "    def list_iterator(self):\n",
    "        curr = self.head\n",
    "        while curr:\n",
    "            value = curr.val\n",
    "            curr = curr.next\n",
    "            yield value\n",
    "\n",
    "    def list_size(self):\n",
    "        return len([x for x in self.list_iterator()])\n",
    "# test\n",
    "sll2 = SinglyLinkedList2()\n",
    "sll2.append('River Plate')\n",
    "sll2.append('Boca Juniors')\n",
    "sll2.append('Independiente')\n",
    "sll2.append('Racing')\n",
    "sll2.append('San Lorenzo')\n",
    "\n",
    "for i in sll2.list_iterator():\n",
    "    print(i)\n",
    "\n",
    "print(f'~ sll2 Linked List Size: {sll2.list_size()}') # ✅\n",
    "\n",
    "# Other solution https://www.w3resource.com/python-exercises/data-structures-and-algorithms/python-linked-list-exercise-2.php\n"
   ]
  },
  {
   "cell_type": "markdown",
   "metadata": {},
   "source": [
    "---\n",
    "\n",
    "#### 3.  Write a Python program to search a specific item in a singly linked list and return true if the item is found otherwise return false.\n"
   ]
  },
  {
   "cell_type": "code",
   "execution_count": 55,
   "metadata": {},
   "outputs": [
    {
     "name": "stdout",
     "output_type": "stream",
     "text": [
      "False\n",
      "True\n"
     ]
    }
   ],
   "source": [
    "# 3. ✅\n",
    "\n",
    "\"\"\" Write a Python program to search a specific item in a singly linked list and return true if the item is found otherwise return false.\"\"\"\n",
    "\n",
    "class Node:\n",
    "    def __init__(self, val=None):\n",
    "        self.val = val\n",
    "        self.next = None\n",
    "\n",
    "class SinglyLinkedList3:\n",
    "    def __init__(self):\n",
    "        self.head = None\n",
    "        self.tail = None\n",
    "\n",
    "    def append(self, data):\n",
    "        new_node = Node(data)\n",
    "        if self.tail:\n",
    "            self.tail.next = new_node\n",
    "            self.tail = new_node\n",
    "        else:\n",
    "            self.head = new_node\n",
    "            self.tail = new_node\n",
    "\n",
    "    def iterator(self):\n",
    "        \"\"\"Iterate through the list items\"\"\"\n",
    "        if not self.head:\n",
    "            raise Exception('Empty List')\n",
    "\n",
    "        curr = self.head\n",
    "        while curr:\n",
    "            value = curr.val\n",
    "            curr = curr.next\n",
    "            yield value\n",
    "            \n",
    "    def isItem(self, item):\n",
    "        for i in self.iterator():\n",
    "            if i == item:\n",
    "                return True\n",
    "        return False\n",
    "\n",
    "# Test\n",
    "ex3_list = SinglyLinkedList3()\n",
    "ex3_list.append('Apple')\n",
    "ex3_list.append('Pineapple')\n",
    "ex3_list.append('Orange')\n",
    "ex3_list.append('Grape')\n",
    "\n",
    "print(ex3_list.isItem('Banana')) # ✅\n",
    "print(ex3_list.isItem('Apple'))  # ✅"
   ]
  },
  {
   "cell_type": "markdown",
   "metadata": {},
   "source": [
    "---\n",
    "\n",
    "#### 4. Write a Python program to access a specific item in a singly linked list using index value."
   ]
  },
  {
   "cell_type": "code",
   "execution_count": 56,
   "metadata": {},
   "outputs": [
    {
     "name": "stdout",
     "output_type": "stream",
     "text": [
      "C#\n"
     ]
    }
   ],
   "source": [
    "# 4.\n",
    "\n",
    "\"\"\"4. Write a Python program to access a specific item in a singly linked list using index value.\"\"\"\n",
    "\n",
    "class Node:\n",
    "    def __init__(self, val=None):\n",
    "        self.val = val\n",
    "        self.next = next\n",
    "\n",
    "class SinglyLinkedList4:\n",
    "    def __init__(self):\n",
    "        self.head = None\n",
    "        self.tail = None\n",
    "        self.count = 0\n",
    "        \n",
    "    def iterate_list(self):\n",
    "        curr = self.head\n",
    "        while curr:\n",
    "            value = curr.val\n",
    "            curr = curr.next\n",
    "            yield value\n",
    "\n",
    "    def append_item(self, data):\n",
    "        \"\"\"Append a new node with the given data\"\"\"\n",
    "        new_node = Node(val=data)\n",
    "        if self.tail:\n",
    "            self.tail.next = new_node\n",
    "            self.tail = new_node\n",
    "        else:\n",
    "            self.head = new_node\n",
    "            self.tail = new_node\n",
    "        self.count += 1\n",
    "        \n",
    "    def get_item(self, index=0):\n",
    "        \"\"\"Return item from a given index, 0 by default\"\"\"\n",
    "        res = self.head\n",
    "        if index == 0:\n",
    "            return res.val\n",
    "        else:\n",
    "            for x in range(index):\n",
    "                res = res.next\n",
    "        return res.val\n",
    "\n",
    "# test\n",
    "sll4 = SinglyLinkedList4()\n",
    "\n",
    "sll4.append_item('Python')\n",
    "sll4.append_item('C++')\n",
    "sll4.append_item('C#')\n",
    "sll4.append_item('JavaScript')\n",
    "\n",
    "print(sll4.get_item(2)) # ✅"
   ]
  },
  {
   "cell_type": "markdown",
   "metadata": {},
   "source": [
    "#### 🛑 Exercise 4. w3resource solution:\n",
    "\n",
    "w3 uses `__getitem__()` is a magic method in Python, which when used in a class, allows its instances to use the `[]` (indexer) operators. Say x is an instance of this class, then x[i] is roughly equivalent to `type(x).__getitem__(x, i)`"
   ]
  },
  {
   "cell_type": "code",
   "execution_count": 57,
   "metadata": {},
   "outputs": [
    {
     "ename": "IndentationError",
     "evalue": "expected an indented block after class definition on line 3 (2020752177.py, line 5)",
     "output_type": "error",
     "traceback": [
      "\u001b[1;36m  Cell \u001b[1;32mIn[57], line 5\u001b[1;36m\u001b[0m\n\u001b[1;33m    def __init__(self, data=None):\u001b[0m\n\u001b[1;37m    ^\u001b[0m\n\u001b[1;31mIndentationError\u001b[0m\u001b[1;31m:\u001b[0m expected an indented block after class definition on line 3\n"
     ]
    }
   ],
   "source": [
    "# 🛑 w3 solution\n",
    "\n",
    "class Node:\n",
    "    # Singly linked node\n",
    "    def __init__(self, data=None):\n",
    "        self.data = data\n",
    "        self.next = None\n",
    "\n",
    "class singly_linked_list:\n",
    "    def __init__(self):\n",
    "        # Createe an empty list\n",
    "        self.tail = None\n",
    "        self.head = None\n",
    "        self.count = 0\n",
    "\t\n",
    "    def append_item(self, data):\n",
    "        #Append items on the list\n",
    "        node = Node(data)\n",
    "        if self.head:\n",
    "            self.head.next = node\n",
    "            self.head = node\n",
    "        else:\n",
    "            self.tail = node\n",
    "            self.head = node\n",
    "        self.count += 1\n",
    "\n",
    "    def __getitem__(self, index):\n",
    "        if index > self.count - 1 or index < 0:\n",
    "            raise Exception('Index out of range')\n",
    "        current_val = self.tail\n",
    "        for n in range(index):\n",
    "            current_val = current_val.next\n",
    "        return current_val.data\n",
    "\n",
    "items = singly_linked_list()\n",
    "items.append_item('PHP')\n",
    "items.append_item('Python')\n",
    "items.append_item('C#')\n",
    "items.append_item('C++')\n",
    "items.append_item('Java')\n",
    "\n",
    "print(\"Search using index:\")\n",
    "print(items[0])\n",
    "print(items[1])\n",
    "print(items[4])\n",
    "print(items[5])\n",
    "print(items[10])"
   ]
  },
  {
   "cell_type": "markdown",
   "metadata": {},
   "source": []
  },
  {
   "cell_type": "code",
   "execution_count": null,
   "metadata": {},
   "outputs": [],
   "source": []
  }
 ],
 "metadata": {
  "kernelspec": {
   "display_name": "Python 3",
   "language": "python",
   "name": "python3"
  },
  "language_info": {
   "codemirror_mode": {
    "name": "ipython",
    "version": 3
   },
   "file_extension": ".py",
   "mimetype": "text/x-python",
   "name": "python",
   "nbconvert_exporter": "python",
   "pygments_lexer": "ipython3",
   "version": "3.12.0"
  }
 },
 "nbformat": 4,
 "nbformat_minor": 2
}
