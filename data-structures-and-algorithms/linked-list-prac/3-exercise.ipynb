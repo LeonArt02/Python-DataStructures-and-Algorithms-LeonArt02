{
 "cells": [
  {
   "cell_type": "markdown",
   "metadata": {},
   "source": [
    "## 💙 Python: Linked List - Exercises, Practice, Solution\n",
    "[**w3resource source**](https://www.w3resource.com/python-exercises/data-structures-and-algorithms/python-linked-list.php)\n",
    "\n",
    "#### 1. Write a Python program to create a singly linked list, append some items and iterate through the list."
   ]
  },
  {
   "cell_type": "code",
   "execution_count": 8,
   "metadata": {},
   "outputs": [
    {
     "name": "stdout",
     "output_type": "stream",
     "text": [
      "Python\n",
      "C++\n",
      "C#\n",
      "TypeScript\n",
      "Java\n"
     ]
    }
   ],
   "source": [
    "# 1.\n",
    "\n",
    "\"\"\"Write a Python program to create a singly linked list, \n",
    "append some items and iterate through the list.\"\"\"\n",
    "\n",
    "class Node:\n",
    "    def __init__(self, val):\n",
    "        self.val = val\n",
    "        self.next = None\n",
    "\n",
    "\n",
    "class SinglyLinkedList1:\n",
    "    def __init__(self):\n",
    "        self.head = None\n",
    "        self.tail = None\n",
    "        self.count = 0\n",
    "\n",
    "    def iterate_item(self):\n",
    "        # iterate SLL\n",
    "        curr = self.head\n",
    "        while curr:\n",
    "            value = curr.val\n",
    "            curr = curr.next\n",
    "            yield value\n",
    "\n",
    "    def append_node(self, val):\n",
    "        new_node = Node(val=val)\n",
    "        if self.tail:\n",
    "            self.tail.next = new_node\n",
    "            self.tail = new_node\n",
    "        else:\n",
    "            self.head = new_node\n",
    "            self.tail = new_node\n",
    "        self.count += 1\n",
    "            \n",
    "# yield explanation (https://www.geeksforgeeks.org/use-yield-keyword-instead-return-keyword-python/)\n",
    "\n",
    "list_test1 = SinglyLinkedList1()\n",
    "list_test1.append_node('Python')\n",
    "list_test1.append_node('C++')\n",
    "list_test1.append_node('C#')\n",
    "list_test1.append_node('TypeScript')\n",
    "list_test1.append_node('Java')\n",
    "\n",
    "for i in list_test1.iterate_item():\n",
    "    print(i) # ✅"
   ]
  },
  {
   "cell_type": "markdown",
   "metadata": {},
   "source": [
    "---\n",
    "\n",
    "#### 2. Write a Python program to find the size of a singly linked list."
   ]
  },
  {
   "cell_type": "code",
   "execution_count": 9,
   "metadata": {},
   "outputs": [],
   "source": [
    "# 2\n",
    "\n",
    "class Node:\n",
    "    def __init__(self, val=None):\n",
    "        self.val = val\n",
    "        self.next = None\n",
    "\n",
    "class SinglyLinkedList2:\n",
    "    def __init__(self):\n",
    "        self.head = None\n",
    "        self.tail = None\n",
    "    \n",
    "    def append(self, val):\n",
    "        new_node = Node(val=val)\n",
    "        \n",
    "        if self.tail:\n",
    "            self.tail.next = new_node\n",
    "            self.tail = new_node\n",
    "        else:\n",
    "            self.head = new_node\n",
    "            self.tail = new_node\n",
    "    \n",
    "    def list_iterator(self):\n",
    "        curr = self.head\n",
    "        while curr:\n",
    "            value = curr.val\n",
    "            curr = curr.next\n",
    "            yield value\n",
    "    \n",
    "    \n",
    "        "
   ]
  },
  {
   "cell_type": "markdown",
   "metadata": {},
   "source": []
  }
 ],
 "metadata": {
  "kernelspec": {
   "display_name": "Python 3",
   "language": "python",
   "name": "python3"
  },
  "language_info": {
   "codemirror_mode": {
    "name": "ipython",
    "version": 3
   },
   "file_extension": ".py",
   "mimetype": "text/x-python",
   "name": "python",
   "nbconvert_exporter": "python",
   "pygments_lexer": "ipython3",
   "version": "3.12.0"
  }
 },
 "nbformat": 4,
 "nbformat_minor": 2
}
