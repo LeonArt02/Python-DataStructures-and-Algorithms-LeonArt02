{
 "cells": [
  {
   "cell_type": "markdown",
   "metadata": {},
   "source": [
    "#### 🔵 8. Write a Python program to create a doubly linked list, append some items and iterate through the list (print forward)."
   ]
  },
  {
   "cell_type": "code",
   "execution_count": 32,
   "metadata": {},
   "outputs": [
    {
     "name": "stdout",
     "output_type": "stream",
     "text": [
      "['River', 'Boca', 'Independiente', 'Racing', 'San Lorenzo']\n"
     ]
    }
   ],
   "source": [
    "# 8. \n",
    "\n",
    "class Node:\n",
    "    def __init__(self, val=None):\n",
    "        self.val = val\n",
    "        self.next = None\n",
    "        self.prev = None\n",
    "        \n",
    "class DoubyLinkedList8:\n",
    "    def __init__(self):\n",
    "        self.head = None\n",
    "        self.tail = None\n",
    "        \n",
    "    def append(self, data):\n",
    "        new_node = Node(data)\n",
    "        \n",
    "        if self.tail:\n",
    "            new_node.prev = self.tail\n",
    "            self.tail.next= new_node\n",
    "            self.tail = new_node\n",
    "        else:\n",
    "            self.head = new_node\n",
    "            self.tail = new_node\n",
    "            \n",
    "    def iterate(self):\n",
    "        curr = self.head\n",
    "        while curr:\n",
    "            res = curr.val\n",
    "            curr = curr.next\n",
    "            yield res\n",
    "    \n",
    "    def get_as_list(self):\n",
    "        res = [x for x in self.iterate()]\n",
    "        return res\n",
    "        \n",
    "\n",
    "# test DLL\n",
    "items = DoubyLinkedList8()\n",
    "\n",
    "items.append('River')\n",
    "items.append('Boca')\n",
    "items.append('Independiente')\n",
    "items.append('Racing')\n",
    "items.append('San Lorenzo')\n",
    "\n",
    "print(items.get_as_list())\n",
    "\n",
    "# ✅✅✅"
   ]
  },
  {
   "cell_type": "markdown",
   "metadata": {},
   "source": [
    "#### 🔵 9. Write a Python program to print a given doubly linked list in reverse order.´\n",
    "\n",
    "`['River']<->['Boca']<->['Independiente']` to:\n",
    "`['Independiente']<->['Boca']<->['River']`\n"
   ]
  },
  {
   "cell_type": "code",
   "execution_count": 33,
   "metadata": {},
   "outputs": [
    {
     "name": "stdout",
     "output_type": "stream",
     "text": [
      "River Plate Boca Juniors Independiente Racing Club San Lorenzo \n",
      "~ Reversed List:\n",
      "San Lorenzo Racing Club Independiente Boca Juniors River Plate "
     ]
    }
   ],
   "source": [
    "# 9.\n",
    "\n",
    "class Node9:\n",
    "    def __init__(self, val) -> None:\n",
    "        self.val = val\n",
    "        self.prev = None\n",
    "        self.next = None\n",
    "\n",
    "class DoubyLinkedList9():\n",
    "    def __init__(self) -> None:\n",
    "        self.head = None\n",
    "        self.tail = None\n",
    "    \n",
    "    def append(self, value):\n",
    "        new_node = Node9(value)\n",
    "        if self.tail:\n",
    "            new_node.prev = self.tail\n",
    "            self.tail.next = new_node\n",
    "            self.tail = new_node\n",
    "        else:\n",
    "            self.head = new_node\n",
    "            self.tail = new_node\n",
    "    \n",
    "    def iterate(self):\n",
    "        curr = self.head\n",
    "        while curr:\n",
    "            res = curr.val\n",
    "            curr = curr.next\n",
    "            yield res\n",
    "    \n",
    "    def iterate_backwards(self):\n",
    "        curr = self.tail\n",
    "        while curr:\n",
    "            res = curr.val\n",
    "            curr = curr.prev\n",
    "            yield res\n",
    "    \n",
    "    def reverse_list(self):\n",
    "        \"\"\"Function reverse a Doubly Linked List\"\"\"\n",
    "        temp = None\n",
    "        curr = self.head\n",
    "\n",
    "        \"\"\"Swap next and prev for all nodes of DLL\"\"\"\n",
    "        while curr:\n",
    "            temp = curr.prev\n",
    "            next = curr.next\n",
    "            curr.prev = curr.next\n",
    "            curr.next = temp\n",
    "            curr = next\n",
    "\n",
    "        if temp != None:\n",
    "            self.head = temp.prev\n",
    "        \n",
    "items = DoubyLinkedList9()\n",
    "\n",
    "items.append('River Plate')\n",
    "items.append('Boca Juniors')\n",
    "items.append('Independiente')\n",
    "items.append('Racing Club')\n",
    "items.append('San Lorenzo')\n",
    "\n",
    "for i in items.iterate():\n",
    "    print(i,end=' ')\n",
    "\n",
    "print('\\n~ Reversed List:')\n",
    "items.reverse_list()\n",
    "\n",
    "for i in items.iterate():\n",
    "    print(i,end=' ')\n"
   ]
  }
 ],
 "metadata": {
  "kernelspec": {
   "display_name": "Python 3",
   "language": "python",
   "name": "python3"
  },
  "language_info": {
   "codemirror_mode": {
    "name": "ipython",
    "version": 3
   },
   "file_extension": ".py",
   "mimetype": "text/x-python",
   "name": "python",
   "nbconvert_exporter": "python",
   "pygments_lexer": "ipython3",
   "version": "3.12.0"
  }
 },
 "nbformat": 4,
 "nbformat_minor": 2
}
