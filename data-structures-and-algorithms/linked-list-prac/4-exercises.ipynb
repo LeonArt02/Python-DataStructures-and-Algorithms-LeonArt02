{
 "cells": [
  {
   "cell_type": "markdown",
   "metadata": {},
   "source": [
    "---\n",
    "\n",
    "#### 🔵 6. Write a Python program to delete the first item from a singly linked list.\n"
   ]
  },
  {
   "cell_type": "code",
   "execution_count": null,
   "metadata": {},
   "outputs": [],
   "source": [
    "# 6.\n",
    "\n",
    "\"\"\" 6. Write a Python program to delete the first item from a singly linked list.\"\"\"\n",
    "\n",
    "class Node:\n",
    "    def __init__(self, val=None):\n",
    "        self.val = val \n",
    "        self.next = next\n",
    "\n",
    "class SinglyLinkedList6:\n",
    "    def __init__(self):\n",
    "        self.head = None\n",
    "        self.tail = None\n",
    "        self.count = 0\n",
    "    \n",
    "    def append(self,data=None):\n",
    "        \"\"\"Append new node with the given data\"\"\"\n",
    "        new_node = Node(data)\n",
    "        if self.tail:\n",
    "            self.tail.next = new_node\n",
    "            self.tail = new_node\n",
    "        else:\n",
    "            self.head = new_node\n",
    "            self.tail = new_node\n",
    "        self.count += 1\n",
    "        \n",
    "    def popLeft(self):\n",
    "        \"\"\"Remove and return the first item in the list\"\"\"\n",
    "        if self.head:\n",
    "            res = self.head\n",
    "            self.head = self.head.next\n",
    "            return res\n",
    "        else:\n",
    "            raise Exception('Empty List')\n",
    "\n",
    "    def iterator(self):\n",
    "        \"\"\"Iterate through all items from the list -> returns curr.val\"\"\"\n",
    "        if not self.head:\n",
    "            raise Exception('Empty List')\n",
    "        \n",
    "        current = self.head\n",
    "        while current:\n",
    "            res = current.val\n",
    "            current = current.next\n",
    "            yield res"
   ]
  }
 ],
 "metadata": {
  "language_info": {
   "name": "python"
  }
 },
 "nbformat": 4,
 "nbformat_minor": 2
}
