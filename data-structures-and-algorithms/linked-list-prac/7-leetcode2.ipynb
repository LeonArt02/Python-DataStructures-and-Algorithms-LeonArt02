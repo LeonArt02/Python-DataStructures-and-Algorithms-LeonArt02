{
 "cells": [
  {
   "cell_type": "markdown",
   "metadata": {},
   "source": [
    "### 💙 2. Add Two Numbers\n",
    "\n",
    "\n",
    "<img title=\"tree\" alt=\"tree\" src=\"./images/leetcode.png\" width=500>\n",
    "\n"
   ]
  },
  {
   "cell_type": "code",
   "execution_count": 9,
   "metadata": {},
   "outputs": [],
   "source": [
    "# Definition for singly-linked list.\n",
    "\n",
    "class ListNode(object):\n",
    "    def __init__(self, val=0, next=None):\n",
    "        self.val = val\n",
    "        self.next = next\n",
    "        \n",
    "        \n",
    "class Solution:\n",
    "    def addTwoNumbers(self, l1, l2):\n",
    "        dummyHead = ListNode(0)\n",
    "        tail = dummyHead\n",
    "        carry = 0\n",
    "\n",
    "        while l1 or l2 or carry != 0:\n",
    "            digit1 = l1.val if l1 is not None else 0\n",
    "            digit2 = l2.val if l2 is not None else 0\n",
    "\n",
    "            sum = digit1 + digit2 + carry\n",
    "            digit = sum % 10\n",
    "            carry = sum // 10\n",
    "\n",
    "            newNode = ListNode(digit)\n",
    "            tail.next = newNode\n",
    "            tail = tail.next\n",
    "\n",
    "            l1 = l1.next if l1 is not None else None\n",
    "            l2 = l2.next if l2 is not None else None\n",
    "\n",
    "        result = dummyHead.next\n",
    "        dummyHead.next = None\n",
    "        return result\n",
    "        "
   ]
  },
  {
   "cell_type": "code",
   "execution_count": 10,
   "metadata": {},
   "outputs": [
    {
     "name": "stdout",
     "output_type": "stream",
     "text": [
      "6 7 7\n"
     ]
    }
   ],
   "source": [
    "# Test\n",
    "# [7]->[8] + [9]->[8]->[6] = [6]->[7]->[7]\n",
    "# 87 + 687 = 776\n",
    "a1 = ListNode(7)\n",
    "a2 = ListNode(8)\n",
    "a1.next = a2\n",
    "\n",
    "b1 = ListNode(9)\n",
    "b2 = ListNode(8)\n",
    "b3 = ListNode(6)\n",
    "b1.next = b2\n",
    "b2.next = b3\n",
    "\n",
    "a_plus_b = Solution()\n",
    "res = a_plus_b.addTwoNumbers(a1, b1)\n",
    "\n",
    "print(res.val, res.next.val, res.next.next.val) # ✅✅✅\n"
   ]
  }
 ],
 "metadata": {
  "kernelspec": {
   "display_name": "Python 3",
   "language": "python",
   "name": "python3"
  },
  "language_info": {
   "codemirror_mode": {
    "name": "ipython",
    "version": 3
   },
   "file_extension": ".py",
   "mimetype": "text/x-python",
   "name": "python",
   "nbconvert_exporter": "python",
   "pygments_lexer": "ipython3",
   "version": "3.12.0"
  }
 },
 "nbformat": 4,
 "nbformat_minor": 2
}
