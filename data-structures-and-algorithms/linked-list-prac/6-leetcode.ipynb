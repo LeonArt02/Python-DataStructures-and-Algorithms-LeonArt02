{
 "cells": [
  {
   "cell_type": "markdown",
   "metadata": {},
   "source": [
    "### 💙 206. Reverse Linked List \n",
    "#### Solution Leetcode Reverse Linked List\n",
    "\n",
    "Given the head of a singly linked list, reverse the list, and return the reversed list.\n",
    "\n",
    "- Input: head = [1, 2, 3]\n",
    "- Output: [3, 2, 1]\n",
    "\n",
    "<img title=\"tree\" alt=\"tree\" src=\"./images/reverse-linked-list.png\" height=650>"
   ]
  },
  {
   "cell_type": "code",
   "execution_count": null,
   "metadata": {},
   "outputs": [],
   "source": [
    "# Definition for singly-linked list.\n",
    "# class ListNode(object):\n",
    "#     def __init__(self, val=0, next=None):\n",
    "#         self.val = val\n",
    "\n",
    "class Solution(object):\n",
    "#         self.next = next\n",
    "    def reverseList(self, head):\n",
    "        \"\"\"\n",
    "        :type head: ListNode\n",
    "        :rtype: ListNode\n",
    "        \"\"\"\n",
    "        # Return None if list is empty\n",
    "        if head == None:\n",
    "            return None\n",
    "        \n",
    "        prev = None\n",
    "        current = head\n",
    "        while current:\n",
    "            next = current.next\n",
    "            current.next = prev\n",
    "            prev = current\n",
    "            current = next\n",
    "            \n",
    "        # Define the last node as head\n",
    "        head = prev\n",
    "        return head"
   ]
  }
 ],
 "metadata": {
  "language_info": {
   "name": "python"
  }
 },
 "nbformat": 4,
 "nbformat_minor": 2
}
