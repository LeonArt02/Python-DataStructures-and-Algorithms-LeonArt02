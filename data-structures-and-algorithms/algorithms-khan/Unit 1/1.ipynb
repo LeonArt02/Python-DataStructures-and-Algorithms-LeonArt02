{
 "cells": [
  {
   "cell_type": "markdown",
   "metadata": {},
   "source": [
    "## What is an algorithm and why should you care?\n",
    "\n",
    "In computer science, an algorithm is a set of steps for a computer program to accomplish a tasks, and dfinding good algorithms and kwowing when to apply them will allow you to write interesting and important programs.\n",
    "\n",
    "- Let's talk about a few famous algorithms. How does Google Hangouts trasmit live video across the Internet so quickly?\n",
    "    - They Use audio and video compression algorithms.\n",
    "\n",
    "- How does Google Maps figure out how to get from Dallas, Textas to Orlando, Florida so that you can get to Disney World?\n",
    "    - They use a route finding algorithm.\n",
    "\n",
    "- How does Pixar color a 3D model of a character based on the lighting in a virtual room?\n",
    "    - They use a rendering algorithm.\n",
    "\n",
    "- How does NASA choose how to arrange the solar panels on the International Space Station and when to rearrange them?\n",
    "    - They use an optimization and scheduling algorithm.\n",
    "\n",
    "    "
   ]
  },
  {
   "cell_type": "code",
   "execution_count": null,
   "metadata": {},
   "outputs": [],
   "source": []
  }
 ],
 "metadata": {
  "language_info": {
   "name": "python"
  }
 },
 "nbformat": 4,
 "nbformat_minor": 2
}
