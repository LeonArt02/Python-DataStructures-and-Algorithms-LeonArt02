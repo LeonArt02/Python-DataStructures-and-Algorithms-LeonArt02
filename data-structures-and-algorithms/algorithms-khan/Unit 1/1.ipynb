{
 "cells": [
  {
   "cell_type": "markdown",
   "metadata": {},
   "source": [
    "## 📝 What is an algorithm and why should you care?\n",
    "\n",
    "In computer science, an algorithm is a set of steps for a computer program to accomplish a tasks, and dfinding good algorithms and kwowing when to apply them will allow you to write interesting and important programs.\n",
    "\n",
    "- Let's talk about a few famous algorithms. How does Google Hangouts trasmit live video across the Internet so quickly?\n",
    "    - They Use audio and video compression algorithms.\n",
    "\n",
    "- How does Google Maps figure out how to get from Dallas, Textas to Orlando, Florida so that you can get to Disney World?\n",
    "    - They use a route finding algorithm.\n",
    "\n",
    "- How does Pixar color a 3D model of a character based on the lighting in a virtual room?\n",
    "    - They use a rendering algorithm.\n",
    "\n",
    "- How does NASA choose how to arrange the solar panels on the International Space Station and when to rearrange them?\n",
    "    - They use an optimization and scheduling algorithm.\n",
    "\n",
    "Those algorithms are more complex than our everyday algorithms like making a grilled cheese sandwich. But they boil down to the same thing, a set of steps to accomplish a task.\n",
    "\n",
    "\n",
    "#### 3 Important points to keep in mind\n",
    "1. It's important to **know about existing algorithms** to make your programs faster and more efficient by applying the one that suits best\n",
    "\n",
    "2. It's important to know how to design algorithms and how to adapt the existing ones to your own programs.\n",
    "\n",
    "3. It's also important to know how to analyze the correctness and efficiency of an algorithms.\n",
    "\n",
    "\n"
   ]
  },
  {
   "cell_type": "code",
   "execution_count": null,
   "metadata": {},
   "outputs": [],
   "source": []
  }
 ],
 "metadata": {
  "language_info": {
   "name": "python"
  }
 },
 "nbformat": 4,
 "nbformat_minor": 2
}
