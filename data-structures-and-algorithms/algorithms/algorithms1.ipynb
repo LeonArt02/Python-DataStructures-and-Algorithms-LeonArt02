{
 "cells": [
  {
   "attachments": {
    "image-2.png": {
     "image/png": "[encoded data removed]"
    }
   },
   "cell_type": "markdown",
   "metadata": {},
   "source": [
    "## 📝 ¿What is an Algorithm?\n",
    "\n",
    "https://www.geeksforgeeks.org/introduction-to-algorithms/\n",
    "\n",
    "An *algorithm* is any well-defined computational procedure that takes some value, or set of values, as input and produces some value, or set of values, as output in a finite amount of time.\n",
    "Algorithms are generally created independent of underlying languages, i.e. an algorithm can be implemented in more than one programming language.\n",
    "\n",
    "As an example, suppose that you need to sort a sequence of numbers into monotonically increasing order. This problem arises frequently in practice and provides fertile ground for introducing many standard design techniques and analysis tools. Here is how we formally define the sorting problem:\n",
    "\n",
    "- **Input**: A sequence of n numbers ![image-2.png](attachment:image-2.png)\n",
    "- **Output**: A permutation (reordering)  of the input sequence such that ![alt text](./algo-images/image.png)\n",
    "\n",
    "### 🔑 Key concepts we sould learn\n",
    "1. **Problem Solving**:\n",
    "    - Ability to understand, analyze, and break down complex problems into smaller, more manageable subproblems.\n",
    "    - Proeficiency in translating real-world problems into algorithmic solution.\n",
    "2. **Time and Space Complexity**:\n",
    "    - Understanding the efficiency of of algorithms in terms of their time and space requirements.\n",
    "    - *Big O notations* and analysis to quantify the growth rate of algorithms as the input size increases.\n",
    "3. **Data Structures**:\n",
    "    - Familiarity with fundamental data structures such as arrays, linked lists, stacks, queues, trees, heaps, has tables and graphs.\n",
    "    - Understanding the properties, operations, and use cases of each data structure.\n",
    "4. **Algorithm Design Techniques**:\n",
    "    - Understanding various algorithm design paradigms, such as divide and conquer, dynamic programming, greedy algorithms, backtracking, and brute force.\n",
    "    - Knowing when and how to apply different algorithmic techniques based on problem characteristics.\n",
    "5. **Sorting and Searching**:\n",
    "    - Familiarity with sorting algorithms like bubble sort, insertion sort, selection sort, merge sort, quicksort, and heap sort.\n",
    "    - Understanding searching algorithms like linear search, binary search, and various tree-based search algorithms.\n",
    "6. **Graph Theory**:\n",
    "    - Understanding basic graph terminology, and graph traversal algorithms such as depth-first search (DFS) and others.\n",
    "7. **Recursion**:\n",
    "    - Understanding recursion adn recursive algorithms, including recursive function calls, base cases, and recursive problem-solving techniques.\n",
    "8. **Dynamic Programming**:\n",
    "    - Understanding the concept of dynamic programming and it's applications in solving optimization problems by breaking them down into overlapping subproblems.\n",
    "9. **Greedy Algorithms**:\n",
    "    - Understanding the greedy-choice property and how to design greedy algorithms to make locally optimal choices in the hope of finding a global optimum.\n",
    "10.  **Backtracking**:\n",
    "    - Understanding backtracking algorithms and their applications in systematically searching for solutions by exploring all possible candidates.\n",
    "11. **Problem Analysis and Testing**:\n",
    "    - Ability to analyze algorithmic problems, design solutions, implement algorithms, and test their correctness and efficiency.\n",
    "12. **Complexity Classes**:\n",
    "    - Familiarity with complexity classes such as P, NP, NP-hard, and NP-complete, and their implications for algorithmic problem-solving.\n",
    "\n",
    "\n",
    "### 🔧 What are the Characteristics of an Algorithm?\n",
    "\n",
    "As one would not follow any written instructions to cook the recipe, but only the standard one. Similarly, not all written instructions for programming are an algorithm. For some instructions to be an algorithms, it must have the following characteristics:\n",
    "- **Clear and Unambiguous**: The algorithm should be unambiguous. Each of its steps should be clear in all aspects and must lead to only one meaning.\n",
    "- **Well-Defined Outputs**: If an algorithms says to take imputs, it should be well-defined inputs. It may or may not take input.\n",
    "- **Finite-ness**: The algorithm must be finite, i.e. it should terminate after a finite time.\n",
    "- **Feasible**: The algorithm must be simple, generic, and practica, such that it can be executed with the available resources. It must not contain some future technology or anything.\n",
    "- **Language Independent**: The Algorithm designed must be language-independent , i.e. it must be just plain instructions that can be implemented in any language, and yet the output will be the same, as expected.\n",
    "- **Input**: An algorithm has zero or more inputs. Each that contains a fundamental operator must accept zero or more inputs.\n",
    "- **Definiteness**: All instructions in an algorithm must be unambiguous, precise, and easy to interpret. By referring to any of the instructions in an algorithm one can clearly understand what is to be done. Everu fundamental operator in instructions must be defined without any amiguity.\n",
    "- **Effectiveness**: An algorithm must be developed by using very basic, simple, and feasible operations so that one can trace it out by using just paper and pencil.\n"
   ]
  },
  {
   "cell_type": "code",
   "execution_count": 1,
   "metadata": {},
   "outputs": [
    {
     "name": "stdout",
     "output_type": "stream",
     "text": [
      "[17, 20, 26, 31, 44, 54, 55, 77, 93]\n"
     ]
    }
   ],
   "source": [
    "# Merge Sort Python Implementation\n",
    "\n",
    "def mergeSort(myList):\n",
    "    if len(myList) > 1:\n",
    "        mid = len(myList) // 2\n",
    "        left = myList[:mid]\n",
    "        right = myList[mid:]\n",
    "\n",
    "        # Recursive call on each half\n",
    "        mergeSort(left)\n",
    "        mergeSort(right)\n",
    "\n",
    "        # Two iterators for traversing the two halves\n",
    "        i = 0\n",
    "        j = 0\n",
    "        \n",
    "        # Iterator for the main list\n",
    "        k = 0\n",
    "        \n",
    "        while i < len(left) and j < len(right):\n",
    "            if left[i] <= right[j]:\n",
    "              # The value from the left half has been used\n",
    "              myList[k] = left[i]\n",
    "              # Move the iterator forward\n",
    "              i += 1\n",
    "            else:\n",
    "                myList[k] = right[j]\n",
    "                j += 1\n",
    "            # Move to the next slot\n",
    "            k += 1\n",
    "\n",
    "        # For all the remaining values\n",
    "        while i < len(left):\n",
    "            myList[k] = left[i]\n",
    "            i += 1\n",
    "            k += 1\n",
    "\n",
    "        while j < len(right):\n",
    "            myList[k]=right[j]\n",
    "            j += 1\n",
    "            k += 1\n",
    "\n",
    "myList = [54,26,93,17,77,31,44,55,20]\n",
    "mergeSort(myList)\n",
    "print(myList)"
   ]
  }
 ],
 "metadata": {
  "kernelspec": {
   "display_name": "Python 3",
   "language": "python",
   "name": "python3"
  },
  "language_info": {
   "codemirror_mode": {
    "name": "ipython",
    "version": 3
   },
   "file_extension": ".py",
   "mimetype": "text/x-python",
   "name": "python",
   "nbconvert_exporter": "python",
   "pygments_lexer": "ipython3",
   "version": "3.12.0"
  }
 },
 "nbformat": 4,
 "nbformat_minor": 2
}
