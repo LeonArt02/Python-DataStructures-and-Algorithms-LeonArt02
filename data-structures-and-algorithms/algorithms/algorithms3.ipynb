{
 "cells": [
  {
   "cell_type": "markdown",
   "metadata": {},
   "source": [
    "## 🕒📐 Time Complexity and Space Complexity\n",
    "\n",
    "Generally, there is always more than one way to solve a problem in computer science with different algorithms. Therefore, it is highly required to use a method to compare the solutions in order to judge which one is more optimal.\n",
    "Time complexity and space complexity are two fundamental concepts used to analyze the efficiency of algorithms in terms of their time and space requierements, respectively.\n",
    "\n",
    "### 🕒 Time Complexity:\n",
    "Time complexity describes the amount of time an algorithm takes to complete as a function of the size of its input. It provides an estimate of the worst-case scenario for the running time of an algorithm.\n",
    "\n"
   ]
  },
  {
   "cell_type": "code",
   "execution_count": null,
   "metadata": {},
   "outputs": [],
   "source": []
  }
 ],
 "metadata": {
  "language_info": {
   "name": "python"
  }
 },
 "nbformat": 4,
 "nbformat_minor": 2
}
