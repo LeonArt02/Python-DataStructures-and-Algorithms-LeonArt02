{
 "cells": [
  {
   "attachments": {
    "image-2.png": {
     "image/png": "[encoded data removed]"
    }
   },
   "cell_type": "markdown",
   "metadata": {},
   "source": [
    "## 🕒📐 *Time Complexity and Space Complexity*\n",
    "\n",
    "Generally, there is always more than one way to solve a problem in computer science with different algorithms. Therefore, it is highly required to use a method to compare the solutions in order to judge which one is more optimal.\n",
    "Time complexity and space complexity are two fundamental concepts used to analyze the efficiency of algorithms in terms of their time and space requierements, respectively.\n",
    "\n",
    "### 🕒 *Time Complexity:*\n",
    "Time complexity describes the amount of time an algorithm takes to complete as a function of the size of its input. It provides an estimate of the worst-case scenario for the running time of an algorithm.\n",
    "\n",
    "Note that the time to run is a function of the length of the input and not the actual execution time of the machine on which the algorithm is running on.\n",
    "\n",
    "##### *Big O Notation*:\n",
    "The time complexity is generally expressed as a function of the size of the input. Since this function is generally difficult to compute exactly, and the running time for small inputs is not sequential, one commonly focuses on the behavior of the complexity when the input size increases, that is, the asymptotic behavior of the complexity. Therefore, the time complexity is commonly expressed using big O notation, typically:\n",
    "> ![image-2.png](attachment:image-2.png)\n",
    "\n",
    "*Example:*\n",
    "\n",
    "Consider a simple linear search algorithm that searches for a target element in an array of size n, The time complexity of this algorithm is ***O(n)*** because, in the worst case, it may need to traverse the entire array to fin the target element.\n",
    "\n",
    "### 📐 *Space Complexity*\n",
    "\n",
    "Space complexity refers to the amount of memory or space requiered by an algorithm to execute as a function of the size of its input."
   ]
  },
  {
   "cell_type": "code",
   "execution_count": null,
   "metadata": {},
   "outputs": [],
   "source": []
  },
  {
   "cell_type": "code",
   "execution_count": null,
   "metadata": {},
   "outputs": [],
   "source": []
  }
 ],
 "metadata": {
  "language_info": {
   "name": "python"
  }
 },
 "nbformat": 4,
 "nbformat_minor": 2
}
