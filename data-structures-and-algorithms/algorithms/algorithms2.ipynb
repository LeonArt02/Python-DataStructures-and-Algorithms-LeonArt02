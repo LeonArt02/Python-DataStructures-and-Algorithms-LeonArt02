{
 "cells": [
  {
   "cell_type": "markdown",
   "metadata": {},
   "source": [
    "## ⚙ **Types of Algorithms**\n",
    "\n",
    "There are various types of algorithms, each designed to solve different types of problems efficiently. Here are some common types of algorithms along with brief explanations:\n",
    "\n",
    "#### 1. **Sorting Algorithms**:\n",
    "- Sorting algorithms arrange elements in a specified order, such as numerical or lexicographical order. Examples include:\n",
    "    - **Bubble Sort**: Repeatedly swaps adjacent elemts if they are in the wrong order.\n",
    "    - **Merger sort**: Divides the array into halves, sorts each half recursively, and then merges them.\n",
    "    - "
   ]
  },
  {
   "cell_type": "code",
   "execution_count": null,
   "metadata": {},
   "outputs": [],
   "source": [
    "### Types"
   ]
  }
 ],
 "metadata": {
  "language_info": {
   "name": "python"
  }
 },
 "nbformat": 4,
 "nbformat_minor": 2
}
