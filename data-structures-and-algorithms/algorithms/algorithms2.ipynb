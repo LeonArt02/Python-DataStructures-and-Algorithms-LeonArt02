{
 "cells": [
  {
   "cell_type": "markdown",
   "metadata": {},
   "source": [
    "## ⚙ **Common Types of Algorithms**\n",
    "\n",
    "There are various types of algorithms, each designed to solve different types of problems efficiently. Here are some common types of algorithms along with brief explanations:\n",
    "\n",
    "#### 1. **Sorting Algorithms**:\n",
    "- Sorting algorithms arrange elements in a specified order, such as numerical or lexicographical order. Examples include:\n",
    "    - **Bubble Sort**: Repeatedly swaps adjacent elemts if they are in the wrong order.\n",
    "    - **Merge sort**: Divides the array into halves, sorts each half recursively, and then merges them.\n",
    "    - **Quicksort**: Is a Divide-And-Conquer algorithm, it partition an array, selection a pivot, all elements smaller than the pivot are moved before it and all greater are moved after it, the lesser and greater sub-arrays are then recursively sorted.\n",
    "\n",
    "#### 2. **Searching Algorithms**:\n",
    "- Searching Algorithms are designed to check for an element or retrieve an element from any data structure where it is stored, some examples are:\n",
    "    - **Sequential Search**: In this, the list or array is traversed sequentially and every element is checked: For example *Linear Search*.\n",
    "    - **Interval Search**: These algorithms are specifically designed for searching in sorted data-structure. These type of searching algorithms are much more efficient than Linear Search. For example: *Binary Search*\n",
    "\n"
   ]
  },
  {
   "cell_type": "code",
   "execution_count": null,
   "metadata": {},
   "outputs": [],
   "source": [
    "### Types"
   ]
  }
 ],
 "metadata": {
  "language_info": {
   "name": "python"
  }
 },
 "nbformat": 4,
 "nbformat_minor": 2
}
