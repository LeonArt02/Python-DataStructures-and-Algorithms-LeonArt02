{
 "cells": [
  {
   "cell_type": "markdown",
   "metadata": {},
   "source": [
    "## ⚙ **Common Types of Algorithms**\n",
    "\n",
    "There are various types of algorithms, each designed to solve different types of problems efficiently. Here are some common types of algorithms along with brief explanations:\n",
    "\n",
    "#### 0. **Brute Force Algorithm**:\n",
    "- It is the simplest approach to a problem. A brute force algorithm is the first approach that comes to finding when we see a problem.\n",
    "\n",
    "#### 1. **Sorting Algorithms**:\n",
    "- Sorting algorithms arrange elements in a specified order, such as numerical or lexicographical order. Examples include:\n",
    "    - **Bubble Sort**: Repeatedly swaps adjacent elemts if they are in the wrong order.\n",
    "    - **Merge sort**: Divides the array into halves, sorts each half recursively, and then merges them.\n",
    "    - **Quicksort**: Is a Divide-And-Conquer algorithm, it partition an array, selection a pivot, all elements smaller than the pivot are moved before it and all greater are moved after it, the lesser and greater sub-arrays are then recursively sorted.\n",
    "\n",
    "#### 2. **Searching Algorithms**:\n",
    "- Searching Algorithms are designed to check for an element or retrieve an element from any data structure where it is stored, some examples are:\n",
    "    - **Sequential Search**: In this, the list or array is traversed sequentially and every element is checked: For example *Linear Search*.\n",
    "    - **Interval Search**: These algorithms are specifically designed for searching in sorted data-structure. These type of searching algorithms are much more efficient than Linear Search. For example: *Binary Search*\n",
    "\n",
    "#### 3. **Recursive Algorithms**:\n",
    "- The process in which a function calls itself directly or inderectly is called recursion and the corresponding function is called a recursive function. \n",
    "- A recursive function solves a particular problem by calling a copy of itself and solving smaller subproblems of the original problems.\n",
    "\n",
    "#### 4. **Divide and Conquer Algorithms**:\n",
    "- This algorithm breaks a problem into sub-problems, solves a single sub-problem, and merges the solutions to get the final solution. It consits of the following three steps:\n",
    "    - Divide\n",
    "    - Solve\n",
    "    - Combine\n",
    "\n",
    "#### 5. **Backstracking Algorithm**:\n",
    "- The backtracking algorithm builds the solution by searching among all possible solutions. Using this algorithm, we keep on building the solution \n",
    "following criteria. Whenever a solution fails we trace back to the failure point build on the next solution and continue this process till we find the solution or all possible solutions are looked after.\n",
    "\n",
    "#### 6. **Hashing Algorithm**:\n",
    "- Hashing refers to the process of generating a fixed-size output from an input of variable size using the mathematical formulas known as *hash functions*. This technique determines an index or location for the storage of an item in a data structure.\n",
    "\n",
    "#### 7. **Greedy Algorithm**:\n",
    "- Is an algorithmic paradigm that builds up a solution piece by piece, always choosing the next piece that offers the most obvious and immediate benefit. So the problems where choosing locally optimal also leads to global solution are the best fit for Greedy."
   ]
  },
  {
   "cell_type": "markdown",
   "metadata": {},
   "source": []
  },
  {
   "cell_type": "code",
   "execution_count": null,
   "metadata": {},
   "outputs": [],
   "source": [
    "### Types"
   ]
  }
 ],
 "metadata": {
  "language_info": {
   "name": "python"
  }
 },
 "nbformat": 4,
 "nbformat_minor": 2
}
