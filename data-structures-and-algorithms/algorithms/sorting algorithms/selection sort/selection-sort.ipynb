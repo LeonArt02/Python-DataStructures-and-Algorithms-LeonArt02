{
 "cells": [
  {
   "cell_type": "markdown",
   "metadata": {},
   "source": [
    "## 👌 Selection Sort Algorithm\n",
    "\n",
    "Simple and efficient sorting algorithm that works by repeatedly selecting the smallest (or largest) element from the unsorted portion of the list and moving it to the sorted portion of the list.\n",
    "\n",
    "The algorithm repeatedly selects the smallest (or largest) element from the unsorted portion of the list and swaps it with the first element of the unsorted part. This process is repeated for the remaining unsorted portion until the entire list is sorted. \n",
    "\n",
    "### How does Selection Sort Algorithm work?\n",
    "\n",
    "Let's consider the following array as an example: `arr = [64, 25, 12, 22, 11]`\n",
    "\n",
    "**First Pass**:\n",
    "- For the first position in the sorted array, the whole array is traversed from index 0 to 4 sequentially. The first position where 64 is stored presently, after traversing whole array it is clear that 11 is the lowest value.\n",
    "- Thus, replace 64 with 11. After one iteration 11, which happens to be the least value in the array, tends to appear in the first position of the sorted list.\n",
    "\n",
    "<img src='../../algo-images/selection-sort-1.webp'\n",
    "    alt='Selection Sort'\n",
    "    width='550px'>\n",
    "\n",
    "**Second Pass**:\n",
    "- For the second position, where 25 is present, again traverse the rest of the array in a sequential manner.\n",
    "- After traversing, we found that 12 is the second lowest value in the array and it should appear at the second place in the array, thus swap these values.\n",
    "\n",
    "<img src='../../algo-images/selection-sort-1.webp'\n",
    "    alt='Selection Sort'\n",
    "    width='550px'>"
   ]
  },
  {
   "cell_type": "code",
   "execution_count": 7,
   "metadata": {},
   "outputs": [
    {
     "name": "stdout",
     "output_type": "stream",
     "text": [
      "[64, 25, 12, 22, 11]\n",
      "[11, 12, 22, 25, 64]\n"
     ]
    }
   ],
   "source": [
    "arr = [64, 25, 12, 22, 11]\n",
    "\n",
    "def selectionSort(arr):\n",
    "    n = len(arr)\n",
    "    # Traverse through all array elements \n",
    "    for i in range(n):\n",
    "        \n",
    "        # Find the minimum element in remaining  \n",
    "        # unsorted array \n",
    "        min_index = i\n",
    "        for j in range(i+1, n):\n",
    "            if arr[j] < arr[min_index]:\n",
    "                min_index = j\n",
    "                \n",
    "        # Swap the found minimum element with  \n",
    "        # the first element  \n",
    "        if min != i:\n",
    "            arr[i], arr[min_index] = arr[min_index], arr[i]\n",
    "    return arr\n",
    "\n",
    "print(arr)\n",
    "\n",
    "print(selectionSort(arr))"
   ]
  }
 ],
 "metadata": {
  "kernelspec": {
   "display_name": "Python 3",
   "language": "python",
   "name": "python3"
  },
  "language_info": {
   "codemirror_mode": {
    "name": "ipython",
    "version": 3
   },
   "file_extension": ".py",
   "mimetype": "text/x-python",
   "name": "python",
   "nbconvert_exporter": "python",
   "pygments_lexer": "ipython3",
   "version": "3.12.0"
  }
 },
 "nbformat": 4,
 "nbformat_minor": 2
}
