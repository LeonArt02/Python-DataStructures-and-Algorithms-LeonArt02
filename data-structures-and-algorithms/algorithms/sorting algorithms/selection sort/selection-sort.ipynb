{
 "cells": [
  {
   "cell_type": "markdown",
   "metadata": {},
   "source": [
    "## 👌 Selection Sort Algorithm\n",
    "\n",
    "Simple and efficient sorting algorithm that works by repeatedly selecting the smallest (or largest) element from the unsorted portion of the list and moving it to the sorted portion of the list.\n",
    "\n",
    "Selection sort is a sorting algorithm that selects the smallest element from an unsorted list in each iteration and places that element at the beginning of the unsorted list.\n",
    "\n",
    "### Step-By-Step Selection Sort Algorithm\n",
    "\n",
    "Let's consider the following array as an example: `arr = [20,12,10,15,2]`\n",
    "\n",
    "1. Set the first element as `minimum`\n",
    "\n",
    "<img src='../../algo-images/Selection-sort-0-initial-array.png'\n",
    "    alt='1'\n",
    "    width='350px'>\n",
    "\n",
    "2. Compare `minimum` with the second element. If the second element is smaller than `minimum`, assign the second element as `minimum`.\n",
    "\n",
    "Compare `minimum` with the third element. Again, if the third element is smaller, then assign `minimum` to the third element otherwise do nothing. The process goes on until the last element.\n",
    "\n",
    "<img src='../../algo-images/Selection-sort-0-comparision.png'\n",
    "    alt='1'\n",
    "    width='350px'>\n",
    "\n",
    "3. After each iteration, `minimum` is placed in the front of the unsorted list. Setting the minimum value at the left side of the list:\n",
    "\n",
    "<img src='../../algo-images/Selection-sort-0-swapping.png'\n",
    "    alt='1'\n",
    "    width='350px'>\n",
    "\n",
    " "
   ]
  },
  {
   "cell_type": "code",
   "execution_count": 7,
   "metadata": {},
   "outputs": [
    {
     "name": "stdout",
     "output_type": "stream",
     "text": [
      "[64, 25, 12, 22, 11]\n",
      "[11, 12, 22, 25, 64]\n"
     ]
    }
   ],
   "source": [
    "arr = [64, 25, 12, 22, 11]\n",
    "\n",
    "def selectionSort(arr):\n",
    "    n = len(arr)\n",
    "    # Traverse through all array elements \n",
    "    for i in range(n):\n",
    "        \n",
    "        # Find the minimum element in remaining  \n",
    "        # unsorted array \n",
    "        min_index = i\n",
    "        for j in range(i+1, n):\n",
    "            if arr[j] < arr[min_index]:\n",
    "                min_index = j\n",
    "                \n",
    "        # Swap the found minimum element with  \n",
    "        # the first element  \n",
    "        if min != i:\n",
    "            arr[i], arr[min_index] = arr[min_index], arr[i]\n",
    "    return arr\n",
    "\n",
    "print(arr)\n",
    "\n",
    "print(selectionSort(arr))"
   ]
  }
 ],
 "metadata": {
  "kernelspec": {
   "display_name": "Python 3",
   "language": "python",
   "name": "python3"
  },
  "language_info": {
   "codemirror_mode": {
    "name": "ipython",
    "version": 3
   },
   "file_extension": ".py",
   "mimetype": "text/x-python",
   "name": "python",
   "nbconvert_exporter": "python",
   "pygments_lexer": "ipython3",
   "version": "3.12.0"
  }
 },
 "nbformat": 4,
 "nbformat_minor": 2
}
