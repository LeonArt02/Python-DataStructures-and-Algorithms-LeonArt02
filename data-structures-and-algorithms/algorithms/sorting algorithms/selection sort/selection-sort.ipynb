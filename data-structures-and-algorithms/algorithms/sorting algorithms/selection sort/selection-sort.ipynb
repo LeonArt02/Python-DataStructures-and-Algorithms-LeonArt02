{
 "cells": [
  {
   "cell_type": "markdown",
   "metadata": {},
   "source": [
    "## 👌 Selection Sort Algorithm\n",
    "\n",
    "Simple and efficient sorting algorithm that works by repeatedly selecting the smallest (or largest) element from the unsorted portion of the list and moving it to the sorted portion of the list.\n",
    "\n",
    "The algorithm repeatedly selects the smallest (or largest) element from the unsorted portion of the list and swaps it with the first element of the unsorted part. This process is repeated for the remaining unsorted portion until the entire list is sorted. \n",
    "\n",
    "### How does Selection Sort Algorithm work?\n",
    "\n",
    "Let's consider the following array as an example: `arr = [64, 25, 12, 22, 11]`\n",
    "\n",
    "First pass:\n",
    "- For the first position in the sorted array, the whole array is traversed from index 0 to 4 sequentially. The first position where \n"
   ]
  },
  {
   "cell_type": "code",
   "execution_count": null,
   "metadata": {},
   "outputs": [],
   "source": []
  }
 ],
 "metadata": {
  "language_info": {
   "name": "python"
  }
 },
 "nbformat": 4,
 "nbformat_minor": 2
}
