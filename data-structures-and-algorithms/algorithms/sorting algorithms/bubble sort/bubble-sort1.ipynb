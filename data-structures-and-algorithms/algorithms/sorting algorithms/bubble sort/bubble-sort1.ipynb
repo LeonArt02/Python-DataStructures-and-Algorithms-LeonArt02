{
 "cells": [
  {
   "cell_type": "markdown",
   "metadata": {},
   "source": [
    "## 🛀 Bubble Sort Algorithm\n",
    "\n",
    "Bubble Sort is the simplest sorting algorithm that works by repeatedly swapping the adjacent elements if they are in the wrong order. The pass through the list is repeated until the list is sorted. This algorithm is no suitable for large data sets as it's average and worst-case time complexity is quite high. "
   ]
  },
  {
   "cell_type": "code",
   "execution_count": null,
   "metadata": {},
   "outputs": [],
   "source": [
    "##  "
   ]
  }
 ],
 "metadata": {
  "language_info": {
   "name": "python"
  }
 },
 "nbformat": 4,
 "nbformat_minor": 2
}
