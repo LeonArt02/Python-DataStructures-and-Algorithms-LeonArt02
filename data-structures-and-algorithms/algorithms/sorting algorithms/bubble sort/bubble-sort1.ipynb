{
 "cells": [
  {
   "cell_type": "markdown",
   "metadata": {},
   "source": [
    "## 🛀 Bubble Sort Algorithm\n",
    "\n",
    "#### Overview\n",
    "\n",
    "Bubble Sort is the simplest sorting algorithm that works by repeatedly swapping the adjacent elements if they are in the wrong order. The pass through the list is repeated until the list is sorted. This algorithm is no suitable for large data sets as it's average and worst-case time complexity is quite high. \n",
    "\n",
    "#### Step-By-Step Explanation Bubble Sort algorithm:\n",
    "\n",
    "1. **Start from the first element (inted 0) and compare it with the next element (index 1).**\n",
    "    - If the first element is greater than the second, swap them.\n",
    "    - Move to the next element and repeat the comparison and swapping if necessary.\n",
    "    - Continue this process until the end of the list is reached.\n",
    "2. **After the first pass, the largest element will have \"bubbled\" to the end of the list.**\n",
    "    - Now, you can ignore the last element (since it's already in its correct position) and repeat the process for the remaining unsorted elements.\n",
    "3. **Repeat the process for each pass through the list until no swaps are needed.**\n",
    "    - In each pass, the next largest element will be placed in its correct position.\n",
    "    - The number of passes needed is equal to the number of elements in the list minus one.\n"
   ]
  },
  {
   "cell_type": "code",
   "execution_count": null,
   "metadata": {},
   "outputs": [],
   "source": [
    "##  "
   ]
  }
 ],
 "metadata": {
  "language_info": {
   "name": "python"
  }
 },
 "nbformat": 4,
 "nbformat_minor": 2
}
