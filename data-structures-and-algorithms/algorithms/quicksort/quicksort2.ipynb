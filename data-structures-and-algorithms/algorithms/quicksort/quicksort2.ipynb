{
 "cells": [
  {
   "cell_type": "code",
   "execution_count": 1,
   "metadata": {},
   "outputs": [
    {
     "name": "stdout",
     "output_type": "stream",
     "text": [
      "test2 : [1, 2, 3, 4, 6, 7, 9, 12]\n",
      "test2 : [1, 3, 5, 5, 7]\n"
     ]
    }
   ],
   "source": [
    "# ~~ Quicksort Python Implementation ~~\n",
    "# tutorialedge sorting implementation\n",
    "\n",
    "\n",
    "# The average case sorting complexity of Quick sort is O(n log n)\n",
    "def quickSort(arr):\n",
    "    less = []\n",
    "    equal = []\n",
    "    greater = []\n",
    "    \n",
    "    if len(arr) > 1:\n",
    "        pivot = arr[-1]\n",
    "        \n",
    "        for i in arr:\n",
    "            if i < pivot:\n",
    "                less.append(i)\n",
    "            if i == pivot:\n",
    "                equal.append(i)\n",
    "            if i > pivot:\n",
    "                greater.append(i)\n",
    "        \n",
    "        \"\"\"Recursively call quicksort on gradually smaller\n",
    "        and smaller arrays until we have a sorted list.\"\"\"\n",
    "        return quickSort(less) + equal + quickSort(greater)\n",
    "    \n",
    "    else:\n",
    "        return arr\n",
    "\n",
    "if __name__ == '__main__':\n",
    "    test1 = quickSort([6,4,7,1,2,9,12,3])\n",
    "    print(f\"test2 : {test1}\")\n",
    "    \n",
    "    test2 = quickSort([1,7,5,3,5])\n",
    "    print(f\"test2 : {test2}\")"
   ]
  }
 ],
 "metadata": {
  "kernelspec": {
   "display_name": "Python 3",
   "language": "python",
   "name": "python3"
  },
  "language_info": {
   "codemirror_mode": {
    "name": "ipython",
    "version": 3
   },
   "file_extension": ".py",
   "mimetype": "text/x-python",
   "name": "python",
   "nbconvert_exporter": "python",
   "pygments_lexer": "ipython3",
   "version": "3.12.0"
  }
 },
 "nbformat": 4,
 "nbformat_minor": 2
}
