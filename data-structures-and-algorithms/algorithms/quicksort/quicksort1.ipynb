{
 "cells": [
  {
   "cell_type": "markdown",
   "metadata": {},
   "source": [
    "## 🕒 QuickSort Algorithm\n",
    "[source.1](https://www.geeksforgeeks.org/quick-sort/?ref=lbp)\n",
    "\n",
    "QuickSort is a sorting algorithm based on the [Divide and Conquer algorithm](https://www.geeksforgeeks.org/introduction-to-divide-and-conquer-algorithm-data-structure-and-algorithm-tutorials/) that picks an element as a pivot and partitions the given array around the picked pivot by placing the pivot in its correct position \n",
    "\n",
    "#### **Overview**\n",
    "- **Divide and Conquer algorithm**\n",
    "    - Breaks down problem into multiple subproblems recursively until they becom simple to solve\n",
    "    - Solutions are combined to solve original problem\n",
    "- **Running time**\n",
    "    - O(n^2) worst case\n",
    "    - O(n * log(n)) Best and average case\n",
    "    \n",
    "\n",
    "#### **General Principle**\n",
    "\n",
    "- **QickSort**:\n",
    "    1. Choose `pivot` element (Usually last or random)\n",
    "    2. \n",
    "        - Stores elements less than pivot in `left` subarray\n",
    "        - Stores elements equal to pivot \n",
    "        - Stores elements greater than pivot in `right` subarray\n",
    "    3.\n",
    "        - Call `quickSort` recursively on left subarray\n",
    "        - Call `quickSort` recursively on right subarray"
   ]
  },
  {
   "cell_type": "code",
   "execution_count": 21,
   "metadata": {},
   "outputs": [
    {
     "name": "stdout",
     "output_type": "stream",
     "text": [
      "test2 : [1, 2, 3, 4, 6, 7, 9, 12]\n",
      "test2 : [1, 3, 5, 5, 7]\n"
     ]
    }
   ],
   "source": [
    "# ~~ Quicksort Python Implementation ~~\n",
    "# tutorialedge sorting implementation\n",
    "\n",
    "\n",
    "# The average case sorting complexity of Quick sort is O(n log n)\n",
    "def quickSort(arr):\n",
    "    less = []\n",
    "    equal = []\n",
    "    greater = []\n",
    "    \n",
    "    if len(arr) > 1:\n",
    "        pivot = arr[-1]\n",
    "        \n",
    "        for i in arr:\n",
    "            if i < pivot:\n",
    "                less.append(i)\n",
    "            if i == pivot:\n",
    "                equal.append(i)\n",
    "            if i > pivot:\n",
    "                greater.append(i)\n",
    "        \n",
    "        \"\"\"Recursively call quicksort on gradually smaller\n",
    "        and smaller arrays until we have a sorted list.\"\"\"\n",
    "        return quickSort(less) + equal + quickSort(greater)\n",
    "    \n",
    "    else:\n",
    "        return arr\n",
    "\n",
    "if __name__ == '__main__':\n",
    "    test1 = quickSort([6,4,7,1,2,9,12,3])\n",
    "    print(f\"test2 : {test1}\")\n",
    "    \n",
    "    test2 = quickSort([1,7,5,3,5])\n",
    "    print(f\"test2 : {test2}\")"
   ]
  },
  {
   "cell_type": "code",
   "execution_count": 22,
   "metadata": {},
   "outputs": [
    {
     "name": "stdout",
     "output_type": "stream",
     "text": [
      "test quickSort2: [1, 2, 3, 4, 6, 7, 9, 12]\n",
      "test quickSort2: ['a', 'b', 'c', 'x', 'z']\n"
     ]
    }
   ],
   "source": [
    "# FelixTechTips Quicksort implementation (https://www.youtube.com/watch?v=9KBwdDEwal8)\n",
    "\n",
    "# in-place \n",
    "\n",
    "# left = left arr index \n",
    "# right = right arr index \n",
    "def quickSort2(arr, left, right):\n",
    "    if left < right:\n",
    "        partition_pos = partition(arr, left, right)\n",
    "        quickSort2(arr, left, partition_pos - 1)\n",
    "        quickSort2(arr, partition_pos + 1, right)\n",
    "        \n",
    "\n",
    "def partition(arr, left, right):\n",
    "    i = left\n",
    "    j = right - 1\n",
    "    pivot = arr[right]\n",
    "    \n",
    "    while i < j:\n",
    "        # i looks for an element smaller than p\n",
    "        while i < right and arr[i] < pivot:\n",
    "            i += 1\n",
    "        # j looks for an element smaller than p\n",
    "        while j > left and arr[j] >= pivot:\n",
    "            j -= 1\n",
    "\n",
    "        if i < j:\n",
    "            # swap elements arr[i] & arr[j]\n",
    "            arr[i], arr[j] = arr[j], arr[i]\n",
    "    \n",
    "    # extra case\n",
    "    if arr[i] > pivot:\n",
    "        # swap arr[i] & arr[right] (pivot)\n",
    "        arr[i], arr[right] = arr[right], arr[i]\n",
    "\n",
    "    # return i which is index quicksort needs to determine where to split the array to call quicksort recursively\n",
    "    return i\n",
    "\n",
    "\n",
    "if __name__ == '__main__':\n",
    "    arr1 = [6,4,7,1,2,9,12,3]\n",
    "    quickSort2(arr1, 0, len(arr1)-1)\n",
    "    print(f\"test quickSort2: {arr1}\")\n",
    "    \n",
    "    arr2 = ['a','c','b','x','z']\n",
    "    quickSort2(arr2, 0, len(arr2)-1)\n",
    "    print(f\"test quickSort2: {arr2}\")\n",
    "\n"
   ]
  }
 ],
 "metadata": {
  "kernelspec": {
   "display_name": "Python 3",
   "language": "python",
   "name": "python3"
  },
  "language_info": {
   "codemirror_mode": {
    "name": "ipython",
    "version": 3
   },
   "file_extension": ".py",
   "mimetype": "text/x-python",
   "name": "python",
   "nbconvert_exporter": "python",
   "pygments_lexer": "ipython3",
   "version": "3.12.0"
  }
 },
 "nbformat": 4,
 "nbformat_minor": 2
}
