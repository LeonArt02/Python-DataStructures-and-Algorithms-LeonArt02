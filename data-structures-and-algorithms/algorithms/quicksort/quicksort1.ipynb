{
 "cells": [
  {
   "cell_type": "markdown",
   "metadata": {},
   "source": [
    "## 🕒 QuickSort Algorithm\n",
    "[source.1](https://www.geeksforgeeks.org/quick-sort/?ref=lbp)\n",
    "\n",
    "QuickSort is a sorting algorithm based on the [Divide and Conquer algorithm](https://www.geeksforgeeks.org/introduction-to-divide-and-conquer-algorithm-data-structure-and-algorithm-tutorials/) that picks an element as a pivot and partitions the given array around the picked pivot by placing the pivot in its correct position \n",
    "\n",
    "#### **Overview**\n",
    "- **Divide and Conquer algorithm**\n",
    "    - Breaks down problem into multiple subproblems recursively until they becom simple to solve\n",
    "    - Solutions are combined to solve original problem\n",
    "- **Running time**\n",
    "    - O(n^2) worst case\n",
    "    - O(n * log(n)) Best and average case\n",
    "    \n",
    "\n",
    "#### **General Principle**\n",
    "\n",
    "- **How does Quicksort works?** \n",
    "    - The key process in quickSort is a `partition()`. The target of partitions is to place the pivot (any element can be chosen to be a pivot) at its correct position in the sorted array and put all smaller elements to the left of the pivot, and all greater elements to the right of the pivot. creating something like this: `[smaller than p]+[pivot]+[greater than p]`\n",
    "\n",
    "    - `partition()` is going to return `i` which is the index that recursively needs the algorithm to split the array and keep partitioning the array.\n",
    "\n",
    "    - Partition is done recursively on each side of the pivot after the pivot is placed in its correct position and this finally sorts the array.\n",
    "\n",
    "- **QuickSort**:\n",
    "    1. Choose `pivot` element (Usually last or random)\n",
    "    2. Partition place the smaller than p on the left and the greater on the right:\n",
    "        - Stores elements less than pivot in `left` subarray\n",
    "        - Stores elements equal to pivot \n",
    "        - Stores elements greater than pivot in `right` subarray\n",
    "        - returns `i` which is the index where sub array splits\n",
    "    3.\n",
    "        - Call `quickSort` recursively on left subarray\n",
    "        - Call `quickSort` recursively on right subarray"
   ]
  },
  {
   "cell_type": "code",
   "execution_count": 32,
   "metadata": {},
   "outputs": [
    {
     "name": "stdout",
     "output_type": "stream",
     "text": [
      "test quickSort2: [1, 2, 3, 4, 6, 7, 9, 12]\n",
      "test quickSort2: ['a', 'b', 'c', 'x', 'z']\n"
     ]
    }
   ],
   "source": [
    "# FelixTechTips Quicksort implementation (https://www.youtube.com/watch?v=9KBwdDEwal8)\n",
    "\n",
    "# in-place \n",
    "\n",
    "# left = left arr index \n",
    "# right = right arr index \n",
    "def quickSort2(arr, left, right):\n",
    "    if left < right:\n",
    "        partition_pos = partition(arr, left, right)\n",
    "        quickSort2(arr, left, partition_pos - 1)\n",
    "        quickSort2(arr, partition_pos + 1, right)\n",
    "        \n",
    "\n",
    "def partition(arr, left, right):\n",
    "    i = left\n",
    "    j = right - 1\n",
    "    pivot = arr[right]\n",
    "    \n",
    "    while i < j:\n",
    "        # i looks for an element greater than p\n",
    "        while i < right and arr[i] < pivot:\n",
    "            i += 1\n",
    "        # j looks for an element smaller than p\n",
    "        while j > left and arr[j] >= pivot:\n",
    "            j -= 1\n",
    "\n",
    "        if i < j:\n",
    "            # swap elements arr[i] & arr[j]\n",
    "            arr[i], arr[j] = arr[j], arr[i]\n",
    "    \n",
    "    # case\n",
    "    if arr[i] > pivot:\n",
    "        # swap arr[i] & arr[right] (pivot)\n",
    "        arr[i], arr[right] = arr[right], arr[i]\n",
    "\n",
    "    # return i which is index quicksort needs to determine where to split the array to call quicksort recursively\n",
    "    return i\n",
    "\n",
    "\n",
    "if __name__ == '__main__':\n",
    "    arr1 = [6,4,7,1,2,9,12,3]\n",
    "    quickSort2(arr1, 0, len(arr1)-1)\n",
    "    print(f\"test quickSort2: {arr1}\")\n",
    "    \n",
    "    arr2 = ['a','c','b','x','z']\n",
    "    quickSort2(arr2, 0, len(arr2)-1)\n",
    "    print(f\"test quickSort2: {arr2}\")\n",
    "\n"
   ]
  },
  {
   "cell_type": "code",
   "execution_count": 34,
   "metadata": {},
   "outputs": [
    {
     "name": "stdout",
     "output_type": "stream",
     "text": [
      "[0, 2, 3, 4, 4, 5, 7, 8, 9]\n",
      "['Ana', 'Belén', 'Sofía', 'Zendaya']\n"
     ]
    }
   ],
   "source": [
    "# 🕒 Python QuickSort implementation\n",
    "\n",
    "# arr -> list to be sorted\n",
    "# left -> 1° element index (0)\n",
    "# right -> last element index (len(arr) - 1)\n",
    "def partition3(arr, left, right):\n",
    "    i = left\n",
    "    j = right\n",
    "    pivot = arr[right]\n",
    "    \n",
    "    while i < j:\n",
    "        while i < right and arr[i] < pivot:\n",
    "        # i looks for an element greater than pivot\n",
    "            i += 1\n",
    "        while j > left and arr[j] >= pivot:\n",
    "        # j looks for an element smaller than pivot\n",
    "            j -=1\n",
    "        \n",
    "        if i < j:\n",
    "            # swap elements arr[i] & arr[j]\n",
    "            arr[i], arr[j] = arr[j], arr[i]\n",
    "        \n",
    "    # extra case\n",
    "    if arr[i] > pivot:\n",
    "        # swap arr[i] & arr[right] (pivot)\n",
    "        arr[i], arr[right] = arr[right], arr[i]\n",
    "    \n",
    "    return i # which is the index the recursion needs to split the array\n",
    "\n",
    "def quickSort3(arr, left, right):\n",
    "    if left < right:\n",
    "        partition_pos = partition3(arr, left, right)\n",
    "        quickSort3(arr, left, partition_pos - 1)\n",
    "        quickSort3(arr, partition_pos + 1, right)\n",
    "\n",
    "if __name__ == '__main__':\n",
    "    test_array = [2,0,9,3,8,4,7,4,5]\n",
    "    quickSort3(test_array, left=0, right=len(test_array)-1)\n",
    "    print(test_array)\n",
    "\n",
    "    test_array2 = ['Zendaya', 'Sofía', 'Belén','Ana']\n",
    "    quickSort3(test_array2, left=0, right=len(test_array2)-1)\n",
    "    print(test_array2)"
   ]
  }
 ],
 "metadata": {
  "kernelspec": {
   "display_name": "Python 3",
   "language": "python",
   "name": "python3"
  },
  "language_info": {
   "codemirror_mode": {
    "name": "ipython",
    "version": 3
   },
   "file_extension": ".py",
   "mimetype": "text/x-python",
   "name": "python",
   "nbconvert_exporter": "python",
   "pygments_lexer": "ipython3",
   "version": "3.12.0"
  }
 },
 "nbformat": 4,
 "nbformat_minor": 2
}
