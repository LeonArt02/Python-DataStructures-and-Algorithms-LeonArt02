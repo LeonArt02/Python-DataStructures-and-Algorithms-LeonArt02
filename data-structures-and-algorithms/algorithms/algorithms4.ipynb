{
 "cells": [
  {
   "cell_type": "markdown",
   "metadata": {},
   "source": [
    "## *What is Big O Notation?*\n",
    "\n",
    "- Big O notation is a way to describe the **speed** or **complexity** of a given algorithm.\n",
    "\n",
    "- It tells you the **number of operations** an algorithm will perform.\n",
    "- Importantly, Big O doesn’t directly tell you the algorithm’s speed in seconds; it focuses on comparing different algorithms based on the number of operations they perform.\n",
    "\n",
    "\n",
    "### *Worst-Case Scenario: O(n)*\n",
    "\n",
    "Imagine you're a teacher searching for a student named Jane in your school district's database and you use a simple algorithm that takes **O(n)** time.\n",
    "\n",
    "This means that in the **worst-case scenario**, you'll have to search through each record (represented by ***n***) to find Jane.\n",
    "But what if Jane's records are **first entry** in the database? Did the algorithm actualy take **O(1)** time because you found her on the first attempt?\n",
    "\n",
    "Big O focuses on the **worst-case scenario**, so for the simple search, it's guaranteed to be no slower than **O(n)**\n",
    "\n",
    "\n",
    "### *Different Algorithms, Different Growth Rates*\n",
    "\n",
    "Assume it takes **1 milisecond** to check each element in the school district's database.\n",
    "With the simple search, if you have to check **10 entries**, it'll take **10 ms** to execute.\n",
    "\n",
    "But with the **binary search algorithm**, you only need to check **3 elements**, taking **3 ms**.\n",
    "Most real-world list or databases have hundreds or thousands of elements.\n",
    "\n",
    "If there are **one billion** elements, the simple search would take up to **1 billion ms** (or **11 days**).\n",
    "In constrast, the binary search would take only **32 ms** in the worst case scenario.\n",
    "\n",
    "Clearly, the execution times of simple search and binary search grow at **different rates**.\n",
    "As the list size increases, binary search only takes slightly longer, while simple search grows **exponentially**.\n",
    "\n",
    "Remember, Big O notation helps us understand how algorithms behave as input sizes increase. It’s a powerful tool for analyzing and comparing different algorithms!"
   ]
  },
  {
   "cell_type": "code",
   "execution_count": null,
   "metadata": {},
   "outputs": [],
   "source": []
  }
 ],
 "metadata": {
  "language_info": {
   "name": "python"
  }
 },
 "nbformat": 4,
 "nbformat_minor": 2
}
