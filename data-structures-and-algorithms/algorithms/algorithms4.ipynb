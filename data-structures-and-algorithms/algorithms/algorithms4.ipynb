{
 "cells": [
  {
   "cell_type": "markdown",
   "metadata": {},
   "source": [
    "## *What is Big O Notation?*\n",
    "\n",
    "- Big O notation is a way to describe the **speed** or **complexity** of a given algorithm.\n",
    "\n",
    "- It tells you the **number of operations** an algorithm will perform.\n",
    "- Importantly, Big O doesn’t directly tell you the algorithm’s speed in seconds; it focuses on comparing different algorithms based on the number of operations they perform.\n",
    "\n",
    "\n",
    "### *Worst-Case Scenario: O(n)*\n",
    "\n",
    "Imagine you're a teacher searching for a student named Jane in your school district's database and you use a simple algorithm that takes **O(n)** time.\n",
    "\n",
    "This means that in the **worst-case scenario**, you'll have to search through each record (represented by ***n***) to find Jane.\n",
    "But what if Jane's records are **first entry** in the database? Did the algorithm actualy take **O(1)** time because you found her on the first attempt?\n",
    "\n",
    "Big O focuses on the **worst-case scenario**, so for the simple search, it's guaranteed to be no slower than **O(n)**\n",
    "\n"
   ]
  },
  {
   "cell_type": "code",
   "execution_count": null,
   "metadata": {},
   "outputs": [],
   "source": []
  }
 ],
 "metadata": {
  "language_info": {
   "name": "python"
  }
 },
 "nbformat": 4,
 "nbformat_minor": 2
}
