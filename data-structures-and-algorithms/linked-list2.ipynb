{
 "cells": [
  {
   "cell_type": "markdown",
   "metadata": {},
   "source": [
    "## Data Structures And Algorithms\n",
    "### 2. Linked Lists Practice\n",
    "##### (ChatGPT 3.5)\n",
    "\n",
    "**Linked Lists:**\n",
    "- Singly Linked Lists.\n",
    "- Doubly Linked Lists.\n",
    "- Circular Lined Lists.\n",
    "\n",
    "---\n",
    "\n",
    "## 💙 Doubly Linked Lists.\n",
    "\n",
    "A **doubly linked list** is a special type of linked list where each node contains data, a pointer to the next node, and a pointer to the previous node. This bidirectional linking allows for easier traversal in both forward and backward directions compared to **singly linked lists**:\n",
    "\n",
    "<img src='linked-list-2.png'\n",
    "    alt='Doubly Linked List Illustration'\n",
    "    width='700px'>\n",
    "\n",
    "\n",
    "## Doubly Linked Lists Implementation in Python\n",
    "\n",
    "### Node class:\n",
    "Similar to a singly linked list, the basic building block is the 'node'. Each node instance in a **doubly linked list** has three componentes:\n",
    "\n",
    "1. **Data:** The actual information that the node holds.\n",
    "2. **Next:** A pointer to the next node in the sequence.\n",
    "3. **Prev:** A reference to the previous node in the sequence.\n",
    "\n",
    "> For a deeper implementation & explanation [codeacademy Doubly Linked List](https://www.codecademy.com/learn/linear-data-structures-python/modules/doubly-linked-lists-python/cheatsheet)\n",
    "\n"
   ]
  },
  {
   "cell_type": "code",
   "execution_count": 133,
   "metadata": {},
   "outputs": [],
   "source": [
    "# Node Class of a doubly linked list\n",
    "\n",
    "class Node:\n",
    "    def __init__(self, data=None):\n",
    "        self.data = data\n",
    "        self.next = None\n",
    "        self.prev = None"
   ]
  },
  {
   "cell_type": "markdown",
   "metadata": {},
   "source": [
    "### Doubly Linked List Class:\n",
    "\n",
    "The doubly linked list itself is composed of nodes. It has a reference to the first node (head) and, in some implementations, a reference to the last node (tail):\n"
   ]
  },
  {
   "cell_type": "code",
   "execution_count": 134,
   "metadata": {},
   "outputs": [],
   "source": [
    "# Doubly Linked List class\n",
    "\n",
    "class DoublyLinkedList:\n",
    "    def __init__(self):\n",
    "        self.head = None\n",
    "        self.tail = None"
   ]
  },
  {
   "cell_type": "markdown",
   "metadata": {},
   "source": [
    "### Creating Doubly Linked List and it´s Nodes\n",
    "\n",
    "Let´s create a doubly linked list with three nodes: 1, 2 and 3,\n"
   ]
  },
  {
   "cell_type": "code",
   "execution_count": 135,
   "metadata": {},
   "outputs": [
    {
     "name": "stdout",
     "output_type": "stream",
     "text": [
      "3\n"
     ]
    }
   ],
   "source": [
    "# Creating my first Doubly Linked List\n",
    "\n",
    "# Create Nodes\n",
    "node1 = Node(1)\n",
    "node2 = Node(2)\n",
    "node3 = Node(3)\n",
    "\n",
    "# Create a doubly linked list and connect nodes\n",
    "my_doubly_linked_list = DoublyLinkedList()\n",
    "my_doubly_linked_list.head = node1\n",
    "node1.next = node2\n",
    "node2.prev = node1\n",
    "node2.next = node3\n",
    "node3.prev = node2\n",
    "my_doubly_linked_list.tail = node3\n",
    "\n",
    "# The Doubly Linked List would look like this:\n",
    "# [1] <-> [2] <-> [3]\n",
    "\n",
    "print(f'{my_doubly_linked_list.head.next.next.data}') # 3"
   ]
  },
  {
   "cell_type": "markdown",
   "metadata": {},
   "source": [
    "___\n",
    "\n",
    "### Traversal:\n",
    "Traversal in a doubly linked list can be done in both forward and backward directions. Here´s how you can traverse in both directions:\n",
    "\n",
    "#### Forward Traversal:"
   ]
  },
  {
   "cell_type": "code",
   "execution_count": 136,
   "metadata": {},
   "outputs": [
    {
     "name": "stdout",
     "output_type": "stream",
     "text": [
      "~ 1 | <__main__.Node object at 0x000001F55C8F5A90>\n",
      "~ 2 | <__main__.Node object at 0x000001F55C8F6E40>\n",
      "~ 3 | <__main__.Node object at 0x000001F55C8F71A0>\n"
     ]
    }
   ],
   "source": [
    "current = my_doubly_linked_list.head\n",
    "while current:\n",
    "    print(f'~ {current.data} | {current}')\n",
    "    current = current.next\n",
    "\n",
    "# Let´s create a Forward Traverse function for further use:\n",
    "def forwardTraverse(linkedlist):\n",
    "    current = linkedlist.head\n",
    "    while current:\n",
    "        print(f'~ {current.data} | {current}')\n",
    "        current = current.next"
   ]
  },
  {
   "cell_type": "markdown",
   "metadata": {},
   "source": [
    "#### Backward Traversal:"
   ]
  },
  {
   "cell_type": "code",
   "execution_count": 137,
   "metadata": {},
   "outputs": [
    {
     "name": "stdout",
     "output_type": "stream",
     "text": [
      "~ 3 | <__main__.Node object at 0x000001F55C8F71A0>\n",
      "~ 2 | <__main__.Node object at 0x000001F55C8F6E40>\n",
      "~ 1 | <__main__.Node object at 0x000001F55C8F5A90>\n"
     ]
    }
   ],
   "source": [
    "current = my_doubly_linked_list.tail\n",
    "while current:\n",
    "    print(f'~ {current.data} | {current}')\n",
    "    current = current.prev\n",
    "\n",
    "# Let´s create a Backward Traverse function for further use:\n",
    "def backwardTraverse(linkedlist):\n",
    "    current = linkedlist.tail\n",
    "    while current:\n",
    "        print(f'~ {current.data} | {current}')\n",
    "        current = current.prev"
   ]
  },
  {
   "cell_type": "markdown",
   "metadata": {},
   "source": [
    "___\n",
    "\n",
    "### Insertion\n",
    "\n",
    "1. **Insert at the Beginning:**\n",
    "    To insert a new node at the beginning of the list:\n",
    "- Create a new node. \n",
    "- Update it´s `next` reference to point to the current head.\n",
    "- Update the `prev` reference of the current head.\n",
    "- Update linked_list.head\n"
   ]
  },
  {
   "cell_type": "code",
   "execution_count": 138,
   "metadata": {},
   "outputs": [
    {
     "name": "stdout",
     "output_type": "stream",
     "text": [
      "~ 0 | <__main__.Node object at 0x000001F55C8F6AB0>\n",
      "~ 1 | <__main__.Node object at 0x000001F55C8F5A90>\n",
      "~ 2 | <__main__.Node object at 0x000001F55C8F6E40>\n",
      "~ 3 | <__main__.Node object at 0x000001F55C8F71A0>\n"
     ]
    }
   ],
   "source": [
    "# Insert at the Beginning\n",
    "\n",
    "new_node = Node(0)\n",
    "new_node.next = my_doubly_linked_list.head\n",
    "my_doubly_linked_list.head.prev = new_node\n",
    "my_doubly_linked_list.head = new_node\n",
    "\n",
    "forwardTraverse(my_doubly_linked_list)\n",
    "# The updated Doubly Linked List:\n",
    "# [0] <-> [1] <-> [2] <-> [3]"
   ]
  },
  {
   "cell_type": "markdown",
   "metadata": {},
   "source": [
    "2. **Insert at the End:** To insert at the end:\n",
    "- Create a new node.\n",
    "- Update it´s `prev` reference to point to the current tail.\n",
    "- Update the `next` reference of the current tail.\n",
    "- Update linked_list.tail\n"
   ]
  },
  {
   "cell_type": "code",
   "execution_count": 139,
   "metadata": {},
   "outputs": [
    {
     "name": "stdout",
     "output_type": "stream",
     "text": [
      "~ 0 | <__main__.Node object at 0x000001F55C8F6AB0>\n",
      "~ 1 | <__main__.Node object at 0x000001F55C8F5A90>\n",
      "~ 2 | <__main__.Node object at 0x000001F55C8F6E40>\n",
      "~ 3 | <__main__.Node object at 0x000001F55C8F71A0>\n",
      "~ 4 | <__main__.Node object at 0x000001F55C8F71D0>\n"
     ]
    }
   ],
   "source": [
    "# Insert at the End\n",
    "\n",
    "new_node = Node(4)\n",
    "new_node.prev = my_doubly_linked_list.tail\n",
    "my_doubly_linked_list.tail.next = new_node\n",
    "my_doubly_linked_list.tail = new_node\n",
    "\n",
    "forwardTraverse(my_doubly_linked_list)\n",
    "# The updated Doubly Linked List:\n",
    "# [0] <-> [1] <-> [2] <-> [3] <-> [4]"
   ]
  },
  {
   "cell_type": "markdown",
   "metadata": {},
   "source": [
    "3. **Insert in the Middle:**\n",
    "To insert in the middle.\n",
    "- Create a new node.\n",
    "- Find the node after which you want to insert. (3 in this example)\n",
    "- Update the references accordingly:\n",
    "    - set `new_node.next = after_node`\n",
    "    - set `new_node.prev = after_node.prev`\n",
    "    - set `new_node.prev.next = new_node`\n",
    "    - set `after_node.prev = new_node`"
   ]
  },
  {
   "cell_type": "code",
   "execution_count": 140,
   "metadata": {},
   "outputs": [
    {
     "name": "stdout",
     "output_type": "stream",
     "text": [
      "~ 0 | <__main__.Node object at 0x000001F55C8F6AB0>\n",
      "~ 1 | <__main__.Node object at 0x000001F55C8F5A90>\n",
      "~ 2 | <__main__.Node object at 0x000001F55C8F6E40>\n",
      "~ 2.5 | <__main__.Node object at 0x000001F55C8F7200>\n",
      "~ 3 | <__main__.Node object at 0x000001F55C8F71A0>\n",
      "~ 4 | <__main__.Node object at 0x000001F55C8F71D0>\n"
     ]
    }
   ],
   "source": [
    "new_node = Node(2.5)\n",
    "\n",
    "# Find the node after which you want to insert (3)\n",
    "after_node =  my_doubly_linked_list.head.next.next.next # [3]\n",
    "\n",
    "new_node.next = after_node\n",
    "new_node.prev = after_node.prev\n",
    "after_node.prev.next = new_node\n",
    "after_node.prev = new_node\n",
    "\n",
    "\n",
    "forwardTraverse(my_doubly_linked_list)\n",
    "# The updated Doubly Linked List:\n",
    "# [0] <-> [1] <-> [2] <-> [2.5] <-> [3] <-> [4]\n"
   ]
  },
  {
   "cell_type": "code",
   "execution_count": null,
   "metadata": {},
   "outputs": [],
   "source": []
  }
 ],
 "metadata": {
  "kernelspec": {
   "display_name": "Python 3",
   "language": "python",
   "name": "python3"
  },
  "language_info": {
   "codemirror_mode": {
    "name": "ipython",
    "version": 3
   },
   "file_extension": ".py",
   "mimetype": "text/x-python",
   "name": "python",
   "nbconvert_exporter": "python",
   "pygments_lexer": "ipython3",
   "version": "3.12.0"
  }
 },
 "nbformat": 4,
 "nbformat_minor": 2
}
