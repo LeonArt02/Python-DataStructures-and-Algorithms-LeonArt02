{
 "cells": [
  {
   "cell_type": "markdown",
   "metadata": {},
   "source": [
    "# 💙 Stack Data Structure\n",
    "\n",
    "## Definition\n",
    "\n",
    "A **stack** is an abstract data type that serves as a collection of elements with two main operations:\n",
    "\n",
    "- **Push**, which adds an element to the collection\n",
    "- **Pop**, which removes and returns the most recently added element\n",
    "\n",
    "The order in which an element added to or removed from a stack is descibed as **last in, first out**, referred to by the acronym **LIFO**.\n",
    "The most common example to explain this structure functioning to compare it to a stack of plates, in which adding or removing is only possible at the top\n",
    "\n",
    "\n",
    "> Simple representation of a stack runtime with push and pop operations.\n",
    "<img title=\"a title\" alt=\"Simple representation of a stack runtime with push and pop operations.\" src=\"./images/Lifo_stack.svg.png\" width=400>\n",
    "\n",
    "## 📝 Stack Implementation Python\n",
    "The two most common approaches to **stack implementation** are using **Lists** or using **Linked Lists**\n",
    "\n",
    "### 🛑 Stack Implementation using **Lists**\n",
    "In Python, we can use a list to implement a stack. The `append()` method is used for **push** (adding elements to the top), end the `pop()` method is used for pop (removing and returning elements from the top).\n",
    "\n",
    "Another common method is peek, which returns the Top element without removing it.\n",
    "\n"
   ]
  },
  {
   "cell_type": "code",
   "execution_count": 10,
   "metadata": {},
   "outputs": [],
   "source": [
    "class Stack:\n",
    "    def __init__(self):\n",
    "        self.elements = []\n",
    "    \n",
    "    def is_empty(self):\n",
    "        \"\"\"Return True if stack is empty, False otherwise\"\"\"\n",
    "        return len(self.elements) == 0\n",
    "    \n",
    "    def push(self, item):\n",
    "        \"\"\"Push an element at the Top of the stack\"\"\"\n",
    "        self.elements.append(item)\n",
    "\n",
    "    def pop(self):\n",
    "        \"\"\"If not empty, remove and returns the Top element\n",
    "            ,raise error if stack is empty\"\"\"\n",
    "        if not self.is_empty():\n",
    "            return self.elements.pop()\n",
    "        else:\n",
    "            raise IndexError('Pop from an empty stack')\n",
    "    \n",
    "    def peek(self):\n",
    "        if not self.is_empty():\n",
    "            return self.elements[-1]\n",
    "        else:\n",
    "            raise IndexError('Peek from an empty stack')\n",
    "    \n",
    "    def size(size):\n",
    "        return len(self.elements)\n"
   ]
  },
  {
   "cell_type": "code",
   "execution_count": 11,
   "metadata": {},
   "outputs": [
    {
     "name": "stdout",
     "output_type": "stream",
     "text": [
      "4° pushed element\n",
      "3° pushed element\n"
     ]
    }
   ],
   "source": [
    "# Stack Test (List Implementation)\n",
    "first_stack = Stack()\n",
    "first_stack.push('1° pushed element')\n",
    "first_stack.push('2° pushed element')\n",
    "first_stack.push('3° pushed element')\n",
    "first_stack.push('4° pushed element')\n",
    "\n",
    "popped = first_stack.pop()\n",
    "print(popped)\n",
    "\n",
    "print(f'Top element: {first_stack.peek()}')"
   ]
  },
  {
   "cell_type": "code",
   "execution_count": 12,
   "metadata": {},
   "outputs": [],
   "source": [
    "    # Add Stack Linked List Implementation"
   ]
  }
 ],
 "metadata": {
  "kernelspec": {
   "display_name": "Python 3",
   "language": "python",
   "name": "python3"
  },
  "language_info": {
   "codemirror_mode": {
    "name": "ipython",
    "version": 3
   },
   "file_extension": ".py",
   "mimetype": "text/x-python",
   "name": "python",
   "nbconvert_exporter": "python",
   "pygments_lexer": "ipython3",
   "version": "3.12.0"
  }
 },
 "nbformat": 4,
 "nbformat_minor": 2
}
