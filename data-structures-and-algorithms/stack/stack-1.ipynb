{
 "cells": [
  {
   "cell_type": "markdown",
   "metadata": {},
   "source": [
    "# 💙 Stack Data Structure\n",
    "\n",
    "## Definition\n",
    "\n",
    "A **stack** is an abstract data type that serves as a collection of elements with two main operations:\n",
    "\n",
    "- **Push**, which adds an element to the collection\n",
    "- **Pop**, which removes and returns the most recently added element\n",
    "\n",
    "The order in which an element added to or removed from a stack is descibed as **last in, first out**, referred to by the acronym **LIFO**.\n",
    "The most common example to explain this structure functioning to compare it to a stack of plates, in which adding or removing is only possible at the top\n",
    "\n",
    "\n",
    "> Simple representation of a stack runtime with push and pop operations.\n",
    "<img title=\"a title\" alt=\"Simple representation of a stack runtime with push and pop operations.\" src=\"./images/Lifo_stack.svg.png\" width=400>\n",
    "\n",
    "## 📝 Stack Implementation Python\n",
    "The two most common approaches to **stack implementation** are using **Lists** or using **Linked Lists**\n",
    "\n",
    "### Stack Implementation using **Lists**\n",
    "In Python, we can use a list to implement a stack. The `append()` method is used for **push** (adding elements to the top), end the `pop()` method is used for pop (removing and returning elements from the top):\n",
    "\n"
   ]
  },
  {
   "cell_type": "code",
   "execution_count": null,
   "metadata": {},
   "outputs": [],
   "source": []
  }
 ],
 "metadata": {
  "language_info": {
   "name": "python"
  }
 },
 "nbformat": 4,
 "nbformat_minor": 2
}
