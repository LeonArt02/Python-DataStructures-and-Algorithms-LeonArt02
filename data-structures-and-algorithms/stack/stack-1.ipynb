{
 "cells": [
  {
   "cell_type": "markdown",
   "metadata": {},
   "source": [
    "# 💙 Stack Data Structure\n",
    "\n",
    "## Definition\n",
    "\n",
    "A **stack** is an abstract data type that serves as a collection of elements with two main operations:\n",
    "\n",
    "- **Push**, which adds an element to the collection\n",
    "- **Pop**, which removes and returns the most recently added element\n",
    "\n",
    "The order in which an element added to or removed from a stack is descibed as **last in, first out**, referred to by the acronym **LIFO**.\n",
    "The most common example to explain this structure functioning to compare it to a stack of plates, in which adding or removing is only possible at the top\n",
    "\n",
    "\n",
    "> Simple representation of a stack runtime with push and pop operations.\n",
    "<img title=\"a title\" alt=\"Simple representation of a stack runtime with push and pop operations.\" src=\"./images/Lifo_stack.svg.png\" width=400>\n",
    "\n",
    "## 📝 Stack Implementation Python\n",
    "The two most common approaches to **stack implementation** are using **Lists** or using **Linked Lists**\n",
    "\n",
    "### 🛑 Stack Implementation using **Lists**\n",
    "In Python, we can use a list to implement a stack. The `append()` method is used for **push** (adding elements to the top), end the `pop()` method is used for pop (removing and returning elements from the top).\n",
    "\n",
    "Another common method is peek, which returns the Top element without removing it.\n",
    "\n"
   ]
  },
  {
   "cell_type": "code",
   "execution_count": 96,
   "metadata": {},
   "outputs": [],
   "source": [
    "# Stack (List Implementation)\n",
    "class Stack:\n",
    "    def __init__(self):\n",
    "        self.elements = []\n",
    "    \n",
    "    def is_empty(self):\n",
    "        \"\"\"Return True if stack is empty, False otherwise\"\"\"\n",
    "        return len(self.elements) == 0\n",
    "    \n",
    "    def push(self, item):\n",
    "        \"\"\"Push an element at the Top of the stack\"\"\"\n",
    "        self.elements.append(item)\n",
    "\n",
    "    def pop(self):\n",
    "        \"\"\"If not empty, remove and returns the Top element\n",
    "            ,raise error if stack is empty\"\"\"\n",
    "        if not self.is_empty():\n",
    "            return self.elements.pop()\n",
    "        else:\n",
    "            raise IndexError('Pop from an empty stack')\n",
    "    \n",
    "    def peek(self):\n",
    "        if not self.is_empty():\n",
    "            return self.elements[-1]\n",
    "        else:\n",
    "            raise IndexError('Peek from an empty stack')\n",
    "    \n",
    "    def size(size):\n",
    "        return len(self.elements)\n"
   ]
  },
  {
   "cell_type": "code",
   "execution_count": 97,
   "metadata": {},
   "outputs": [
    {
     "name": "stdout",
     "output_type": "stream",
     "text": [
      "4° pushed element\n",
      "Top element: 3° pushed element\n"
     ]
    }
   ],
   "source": [
    "# Stack Test (List Implementation)\n",
    "first_stack = Stack()\n",
    "\n",
    "# Push (Add to the Top)\n",
    "first_stack.push('1° pushed element')\n",
    "first_stack.push('2° pushed element')\n",
    "first_stack.push('3° pushed element')\n",
    "first_stack.push('4° pushed element')\n",
    "\n",
    "# Pop (Remove and return from the top)\n",
    "popped = first_stack.pop()\n",
    "print(popped)\n",
    "\n",
    "# Peek (View the Top Element without removing)\n",
    "print(f'Top element: {first_stack.peek()}')"
   ]
  },
  {
   "cell_type": "code",
   "execution_count": 98,
   "metadata": {},
   "outputs": [],
   "source": [
    "# STACK Data Structure (Linked List Implementation)\n",
    "\n",
    "class Node:\n",
    "    def __init__(self, value):\n",
    "        self.value = value\n",
    "        self.next = None\n",
    "\n",
    "class StackLL:\n",
    "    def __init__(self):\n",
    "        self.top = None\n",
    "\n",
    "    def push(self, item):\n",
    "        new_node = Node(item)\n",
    "        new_node.next = self.top\n",
    "        self.top = new_node\n",
    "\n",
    "    def pop(self):\n",
    "        if self.top:\n",
    "            popped_item = self.top.value\n",
    "            self.top = self.top.next\n",
    "            return popped_item\n",
    "        else:\n",
    "            raise IndexError(\"pop from an empty stack\")\n",
    "\n",
    "    def peek(self):\n",
    "        if self.top:\n",
    "            return self.top.value\n",
    "        else:\n",
    "            raise IndexError(\"peek from an empty stack\")\n",
    "\n",
    "    def size(self):\n",
    "        current = self.top\n",
    "        count = 0\n",
    "        while current:\n",
    "            count += 1\n",
    "            current = current.next\n",
    "        return count\n"
   ]
  },
  {
   "cell_type": "code",
   "execution_count": 99,
   "metadata": {},
   "outputs": [
    {
     "name": "stdout",
     "output_type": "stream",
     "text": [
      "Stack Size: 3\n",
      "3° Player\n",
      "2° Player\n"
     ]
    }
   ],
   "source": [
    "# Stack Test (Linked List Implementation)\n",
    "\n",
    "second_stack_ll = StackLL()\n",
    "\n",
    "# Push (Add to the Top)\n",
    "second_stack_ll.push('1° Player')\n",
    "second_stack_ll.push('2° Player')\n",
    "second_stack_ll.push('3° Player')\n",
    "\n",
    "# Print Stack Size\n",
    "print(f'Stack Size: {second_stack_ll.size()}') # Stack Size: 3 ✅\n",
    "\n",
    "# Pop Stack (Remove and Return Top value)\n",
    "popped = second_stack_ll.pop()\n",
    "print(popped) # 3° Player ✅\n",
    "\n",
    "# Peek Stack (Return Top value without removing)\n",
    "print(second_stack_ll.peek()) # 2° Player ✅\n",
    "\n"
   ]
  },
  {
   "cell_type": "code",
   "execution_count": 100,
   "metadata": {},
   "outputs": [
    {
     "name": "stdout",
     "output_type": "stream",
     "text": [
      "Distance between p1(0, 5) & p2(3, 9): 5.0\n"
     ]
    }
   ],
   "source": [
    "# No tener en cuenta\n",
    "# Calc distancia entre 2 puntos\n",
    "\n",
    "p1 = (0,5) # (x, y)\n",
    "p2 = (3,9) # (x, y)\n",
    "\n",
    "# calc cateto abscisas\n",
    "x = p2[0] - p1[0] # x = x2 - x1\n",
    "\n",
    "# calc cateto ordenadas\n",
    "y = p2[1] - p1[1] # y = y2 - y1\n",
    "\n",
    "\n",
    "# calcular distancia \n",
    "dist = ((x*x) + (y*y))**0.5 # d = sqrt(x^2 + y^2)\n",
    "\n",
    "print(f'Distance between p1{p1} & p2{p2}: {dist}') \n",
    "# Distance between p1(0, 5) & p2(3, 9): 5.0✅ \n"
   ]
  },
  {
   "cell_type": "markdown",
   "metadata": {},
   "source": []
  }
 ],
 "metadata": {
  "kernelspec": {
   "display_name": "Python 3",
   "language": "python",
   "name": "python3"
  },
  "language_info": {
   "codemirror_mode": {
    "name": "ipython",
    "version": 3
   },
   "file_extension": ".py",
   "mimetype": "text/x-python",
   "name": "python",
   "nbconvert_exporter": "python",
   "pygments_lexer": "ipython3",
   "version": "3.12.0"
  }
 },
 "nbformat": 4,
 "nbformat_minor": 2
}
