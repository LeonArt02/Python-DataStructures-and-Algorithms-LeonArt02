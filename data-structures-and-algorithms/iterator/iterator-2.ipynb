{
 "cells": [
  {
   "cell_type": "markdown",
   "metadata": {},
   "source": [
    "## Building Custom Iterators\n",
    "\n",
    "[Programiz Source](https://www.programiz.com/python-programming/iterator)\n",
    "\n",
    "Building an iterator from scratch is easy in Python. We just have to implement the `__iter__()` and the `__next__()` methods,\n",
    "- `__iter__()` returns the iterator object itself. If required, some initialization can be performed\n",
    "- `__next__()` must return the next item in the sequence. On reaching the end, and in subsequent calls, it must raise `StopIteration`.\n",
    "\n",
    "**Example**: Let's see an example that will give us the next power of 2 (2^n) in each iteration. Power exponent starts from zero up to a user set number:"
   ]
  },
  {
   "cell_type": "code",
   "execution_count": 4,
   "metadata": {},
   "outputs": [
    {
     "name": "stdout",
     "output_type": "stream",
     "text": [
      "1\n",
      "2\n",
      "4\n",
      "8\n",
      "16\n"
     ]
    }
   ],
   "source": [
    "class PowerOfTwo:\n",
    "    \"\"\"Class to implement an iterator\n",
    "    of powers of two\"\"\"\n",
    "    \n",
    "    def __init__(self, max) -> None:\n",
    "        self.max = max\n",
    "    \n",
    "    def __iter__(self):\n",
    "        self.n = 0\n",
    "        return self\n",
    "    \n",
    "    def __next__(self):\n",
    "        if self.n <= self.max:\n",
    "            res = 2 ** self.n\n",
    "            self.n += 1\n",
    "            return res\n",
    "        else:\n",
    "            raise StopIteration\n",
    "\n",
    "num = PowerOfTwo(4)\n",
    "\n",
    "i = iter(num)\n",
    "\n",
    "for x in i:\n",
    "    print(x) # ✅ 1, 2, 4, 8 ,16"
   ]
  },
  {
   "cell_type": "code",
   "execution_count": 5,
   "metadata": {},
   "outputs": [
    {
     "name": "stdout",
     "output_type": "stream",
     "text": [
      "4\n",
      "5\n",
      "6\n",
      "7\n",
      "8\n"
     ]
    }
   ],
   "source": []
  }
 ],
 "metadata": {
  "kernelspec": {
   "display_name": "Python 3",
   "language": "python",
   "name": "python3"
  },
  "language_info": {
   "codemirror_mode": {
    "name": "ipython",
    "version": 3
   },
   "file_extension": ".py",
   "mimetype": "text/x-python",
   "name": "python",
   "nbconvert_exporter": "python",
   "pygments_lexer": "ipython3",
   "version": "3.12.0"
  }
 },
 "nbformat": 4,
 "nbformat_minor": 2
}
