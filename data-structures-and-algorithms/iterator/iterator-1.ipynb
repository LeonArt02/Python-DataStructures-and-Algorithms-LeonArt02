{
 "cells": [
  {
   "cell_type": "markdown",
   "metadata": {},
   "source": [
    "## 🔁 **Iterator vs Iterable**\n",
    "\n",
    "##### [W3 source](https://www.w3schools.com/python/python_iterators.asp)\n",
    "\n",
    "https://www.programiz.com/python-programming/iterator - https://www.w3schools.com/python/python_iterators.asp\n",
    "\n",
    "List, tuples, dicts, and sets are all iterable objects. They are iterable container which you can get an iterator form.\n",
    "\n",
    "All these objects have a **`iter()` method** which is used to get an iterator:\n",
    "\n",
    "#### **Example**\n",
    "Return an iterator from a tuple, and print each value:"
   ]
  },
  {
   "cell_type": "code",
   "execution_count": 23,
   "metadata": {},
   "outputs": [
    {
     "name": "stdout",
     "output_type": "stream",
     "text": [
      "<class 'tuple_iterator'>\n",
      "apple\n",
      "banana\n",
      "cherry\n"
     ]
    }
   ],
   "source": [
    "mytuple = ('apple', 'banana', 'cherry')\n",
    "myiter = iter(mytuple)\n",
    "\n",
    "print(type(myiter)) # <class 'tuple_iterator'>\n",
    "\n",
    "print(next(myiter)) # apple\n",
    "print(next(myiter)) # banana\n",
    "print(next(myiter)) # cherry\n"
   ]
  },
  {
   "cell_type": "markdown",
   "metadata": {},
   "source": [
    "Strings are also iterable objects, containing a sequence of characters:\n"
   ]
  },
  {
   "cell_type": "code",
   "execution_count": 24,
   "metadata": {},
   "outputs": [
    {
     "name": "stdout",
     "output_type": "stream",
     "text": [
      "<class 'str_ascii_iterator'>\n",
      "D\n",
      "a\n",
      "n\n",
      "i\n"
     ]
    }
   ],
   "source": [
    "mystr = 'Dani'\n",
    "myiter = iter(mystr)\n",
    "\n",
    "print(type(myiter)) # <class 'str_ascii_iterator'>\n",
    "\n",
    "print(next(myiter)) # D\n",
    "print(next(myiter)) # a\n",
    "print(next(myiter)) # n\n",
    "print(next(myiter)) # i"
   ]
  },
  {
   "cell_type": "markdown",
   "metadata": {},
   "source": [
    "### 🔁 **Looping through an Iterator**\n",
    "\n",
    "We can also use `for` loop to iterate through an iterable object:\n",
    "\n",
    "**Example**\n",
    "\n",
    "Iterate the value of a tuple or a string: \n"
   ]
  },
  {
   "cell_type": "code",
   "execution_count": 25,
   "metadata": {},
   "outputs": [
    {
     "name": "stdout",
     "output_type": "stream",
     "text": [
      "apple\n",
      "banana\n",
      "orange\n",
      "D\n",
      "a\n",
      "n\n",
      "i\n"
     ]
    }
   ],
   "source": [
    "# Iterate the values of a tuple\n",
    "mytuple = ('apple', 'banana', 'orange')\n",
    "\n",
    "for x in mytuple:\n",
    "    print(x)\n",
    "# apple\n",
    "# banana\n",
    "# orange\n",
    "\n",
    "\n",
    "# Iterate the characters of a string:\n",
    "mystr = 'Dani'\n",
    "for x in mystr:\n",
    "    print(x)\n",
    "# D\n",
    "# a\n",
    "# n\n",
    "# i\n"
   ]
  },
  {
   "cell_type": "markdown",
   "metadata": {},
   "source": [
    "The `for` loop actually creates an iterator object and executes the `next()` method for each loop.\n",
    "\n",
    "---\n",
    "\n",
    "## 🛠 Create an Iterator\n",
    "\n",
    "To create an object/class as an iterator you have to implement the methods `__iter__()` and `__next__()` to your object.\n",
    "\n",
    "As you have learned in the [Python Classes/Objects](https://www.w3schools.com/python/python_classes.asp) charpter all classes have a function called `__init__()`, which allows you to do some initializing when the object is being created.\n",
    "\n",
    "- The `__iter__()` method acts similar, you can do operations (initializing etc.), but must always return the iterator object itself.\n",
    "\n",
    "- The `__next__()` method also allows you to do operations, and must return the next item in the sequence.\n",
    "\n",
    "**Example**: Create an iterator that returns numbers, starting with 1, and each sequence will increase by one (returning 1, 2, 3, 4, etc.):\n"
   ]
  },
  {
   "cell_type": "code",
   "execution_count": 26,
   "metadata": {},
   "outputs": [
    {
     "name": "stdout",
     "output_type": "stream",
     "text": [
      "1\n",
      "2\n",
      "3\n",
      "4\n"
     ]
    }
   ],
   "source": [
    "class MyNumbers:\n",
    "    def __iter__(self):\n",
    "        self.a = 1\n",
    "        return self\n",
    "    \n",
    "    def __next__(self):\n",
    "        x = self.a\n",
    "        self.a += 1\n",
    "        return x\n",
    "\n",
    "my_class = MyNumbers()\n",
    "myiter = iter(my_class)\n",
    "\n",
    "print(next(myiter)) # 1\n",
    "print(next(myiter)) # 2\n",
    "print(next(myiter)) # 3\n",
    "print(next(myiter)) # 4"
   ]
  },
  {
   "cell_type": "markdown",
   "metadata": {},
   "source": [
    "### 🛑 StopIteration statement\n",
    "The example above would continue forever if you had enogh `next()` statements, or if it was used in a `for` loop.\n",
    "\n",
    "To prevent the iteration from going on forever, we can use the `StopIteration` statement.\n",
    "\n",
    "In the `__next__()` method, we can add a terminating condition to raise an error if the iteration is done a specified number of times:\n",
    "\n",
    "**Example**: Stop after `n` iterations"
   ]
  },
  {
   "cell_type": "code",
   "execution_count": 27,
   "metadata": {},
   "outputs": [
    {
     "name": "stdout",
     "output_type": "stream",
     "text": [
      "1\n",
      "2\n",
      "3\n",
      "4\n",
      "5\n",
      "6\n"
     ]
    }
   ],
   "source": [
    "class MyNumbers:\n",
    "    def __init__(self, n) -> None:\n",
    "        self.n = n\n",
    "    \n",
    "    def __iter__(self):\n",
    "        self.val = 1\n",
    "        return self\n",
    "\n",
    "    def __next__(self):\n",
    "        res = self.val\n",
    "        if res <= self.n:\n",
    "            self.val += 1\n",
    "            return res\n",
    "        else:\n",
    "            raise StopIteration\n",
    "\n",
    "stop_at_6 = MyNumbers(6)\n",
    "\n",
    "# loop through the object\n",
    "for x in iter(stop_at_6):\n",
    "    print(x) # ✅\n"
   ]
  },
  {
   "cell_type": "markdown",
   "metadata": {},
   "source": []
  },
  {
   "cell_type": "markdown",
   "metadata": {},
   "source": []
  }
 ],
 "metadata": {
  "kernelspec": {
   "display_name": "Python 3",
   "language": "python",
   "name": "python3"
  },
  "language_info": {
   "codemirror_mode": {
    "name": "ipython",
    "version": 3
   },
   "file_extension": ".py",
   "mimetype": "text/x-python",
   "name": "python",
   "nbconvert_exporter": "python",
   "pygments_lexer": "ipython3",
   "version": "3.12.0"
  }
 },
 "nbformat": 4,
 "nbformat_minor": 2
}
