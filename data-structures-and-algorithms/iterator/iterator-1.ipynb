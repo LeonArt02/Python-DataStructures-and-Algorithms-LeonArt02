{
 "cells": [
  {
   "cell_type": "markdown",
   "metadata": {},
   "source": [
    "## 🔁 **Iterator vs Iterable**\n",
    "\n",
    "##### [W3 source](https://www.w3schools.com/python/python_iterators.asp)\n",
    "\n",
    "https://www.programiz.com/python-programming/iterator - https://www.w3schools.com/python/python_iterators.asp\n",
    "\n",
    "List, tuples, dicts, and sets are all iterable objects. They are iterable container which you can get an iterator form.\n",
    "\n",
    "All these objects have a **`iter()` method** which is used to get an iterator:\n",
    "\n",
    "#### **Example**\n",
    "Return an iterator from a tuple, and print each value:"
   ]
  },
  {
   "cell_type": "code",
   "execution_count": 18,
   "metadata": {},
   "outputs": [
    {
     "name": "stdout",
     "output_type": "stream",
     "text": [
      "<class 'tuple_iterator'>\n",
      "apple\n",
      "banana\n",
      "cherry\n"
     ]
    }
   ],
   "source": [
    "mytuple = ('apple', 'banana', 'cherry')\n",
    "myiter = iter(mytuple)\n",
    "\n",
    "print(type(myiter)) # <class 'tuple_iterator'>\n",
    "\n",
    "print(next(myiter)) # apple\n",
    "print(next(myiter)) # banana\n",
    "print(next(myiter)) # cherry\n"
   ]
  },
  {
   "cell_type": "markdown",
   "metadata": {},
   "source": [
    "Strings are also iterable objects, containing a sequence of characters:\n"
   ]
  },
  {
   "cell_type": "code",
   "execution_count": 19,
   "metadata": {},
   "outputs": [
    {
     "name": "stdout",
     "output_type": "stream",
     "text": [
      "<class 'str_ascii_iterator'>\n",
      "D\n",
      "a\n",
      "n\n",
      "i\n"
     ]
    }
   ],
   "source": [
    "mystr = 'Dani'\n",
    "myiter = iter(mystr)\n",
    "\n",
    "print(type(myiter)) # <class 'str_ascii_iterator'>\n",
    "\n",
    "print(next(myiter)) # D\n",
    "print(next(myiter)) # a\n",
    "print(next(myiter)) # n\n",
    "print(next(myiter)) # i"
   ]
  },
  {
   "cell_type": "markdown",
   "metadata": {},
   "source": [
    "### 🔁 **Looping through an Iterator**\n",
    "\n",
    "We can also use `for` loop to iterate through an iterable object:\n",
    "\n",
    "**Example**\n",
    "\n",
    "Iterate the value of a tuple or a string: \n"
   ]
  },
  {
   "cell_type": "code",
   "execution_count": 20,
   "metadata": {},
   "outputs": [
    {
     "name": "stdout",
     "output_type": "stream",
     "text": [
      "apple\n",
      "banana\n",
      "orange\n",
      "D\n",
      "a\n",
      "n\n",
      "i\n"
     ]
    }
   ],
   "source": [
    "# Iterate the values of a tuple\n",
    "mytuple = ('apple', 'banana', 'orange')\n",
    "\n",
    "for x in mytuple:\n",
    "    print(x)\n",
    "# apple\n",
    "# banana\n",
    "# orange\n",
    "\n",
    "\n",
    "# Iterate the characters of a string:\n",
    "mystr = 'Dani'\n",
    "for x in mystr:\n",
    "    print(x)\n",
    "# D\n",
    "# a\n",
    "# n\n",
    "# i\n"
   ]
  },
  {
   "cell_type": "markdown",
   "metadata": {},
   "source": [
    "The `for` loop actually creates an iterator object and executes the `next()` method for each loop.\n",
    "\n",
    "---\n",
    "\n",
    "## 🛠 Create an Iterator\n",
    "\n",
    "To create an object/class as an iterator you have to implement the methods `__iter__()` and `__next__()` to your object.\n",
    "\n",
    "As you have learned in the [Python Classes/Objects](https://www.w3schools.com/python/python_classes.asp)"
   ]
  }
 ],
 "metadata": {
  "kernelspec": {
   "display_name": "Python 3",
   "language": "python",
   "name": "python3"
  },
  "language_info": {
   "codemirror_mode": {
    "name": "ipython",
    "version": 3
   },
   "file_extension": ".py",
   "mimetype": "text/x-python",
   "name": "python",
   "nbconvert_exporter": "python",
   "pygments_lexer": "ipython3",
   "version": "3.12.0"
  }
 },
 "nbformat": 4,
 "nbformat_minor": 2
}
