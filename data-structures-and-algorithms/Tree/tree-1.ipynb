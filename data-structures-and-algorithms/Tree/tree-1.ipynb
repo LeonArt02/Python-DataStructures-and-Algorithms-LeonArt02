{
 "cells": [
  {
   "cell_type": "markdown",
   "metadata": {},
   "source": [
    "## 🌲 Tree Data Structure \n",
    "[tutorialspoint notes](https://www.tutorialspoint.com/data_structures_algorithms/tree_traversal.htm)\n",
    "\n",
    "#### Types of Trees:\n",
    "\n",
    "- **Binary Tree**:\n",
    "    - A binary tree is a tree in which each node can have at most two children: a left child and a right child.\n",
    "\n",
    "- **Binary Search Tree (BST)**:\n",
    "    - A binary search tree is a binary tree in which the left child of a node contains a value less than te node's value, and the right child contains a value greater than the node's value. This ordering property enables efficient searching, insertionm and deletion operations.\n",
    "\n",
    "- **Balanced Tree: AVL Tree**:\n",
    "    - An AVL tree is a self-balancing binary search tree in which the heights of the left and right subrees of any node differ by at most one. AVL trees maintain balance through rotations to ensure efficient operations, with worst-case time complexity of *O(log n)* for search, insertion, and deletion.\n",
    "\n",
    "\n",
    "- **Trie (Prefix Tree)**:\n",
    "    - A trie, also kwnown as a prefix tree, is a tree-like data structure used to store a dynamic set of strings where each node represents a common prefix of its descenadnt leaves. Tries are commonly used in applications involving dictionaries, auto-completion, and search engines.\n",
    "\n",
    "---\n",
    "\n",
    "## 🔁 Tree Traversal\n",
    "\n",
    "Traversal is a process to visit all the nodes of a tree and may print their values too. Because, all nodes are connected via edges (links) we always start from thre root (head) node. That is, we cannot randomly access a node in atree. There are three ways which we use to traverse a tree\n",
    "\n",
    "- In-order Traversal\n",
    "- Pre-order Traversal\n",
    "- Post-order Traversal\n",
    "\n",
    "Generally, we traverse a tree to search or locate a given item or key in the tree or to print all the values it contains.\n",
    "\n",
    "#### In-order Traversal\n",
    "\n"
   ]
  },
  {
   "cell_type": "code",
   "execution_count": null,
   "metadata": {},
   "outputs": [],
   "source": []
  }
 ],
 "metadata": {
  "language_info": {
   "name": "python"
  }
 },
 "nbformat": 4,
 "nbformat_minor": 2
}
