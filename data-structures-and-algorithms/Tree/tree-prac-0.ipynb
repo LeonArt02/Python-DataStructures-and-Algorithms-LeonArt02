{
 "cells": [
  {
   "cell_type": "markdown",
   "metadata": {},
   "source": [
    "## 🌲 Practice - General Tree Implementation\n",
    "\n",
    "Generate a general tree structure that looks something like this, when printed:\n",
    "\n",
    "\n",
    "```python\n",
    "Data Structures & algorithms\n",
    "   |__Data Structures\n",
    "      |__Linked List\n",
    "         |__Singly Linked List\n",
    "         |__Doubly Linked List\n",
    "      |__Tree\n",
    "         |__General Tree\n",
    "         |__Binary Tree\n",
    "   |__Algorithms\n",
    "      |__Sorting Algorithms\n",
    "      |__Recursion\n",
    "      |__Search Algorithms\n",
    "```"
   ]
  },
  {
   "cell_type": "code",
   "execution_count": 3,
   "metadata": {},
   "outputs": [
    {
     "name": "stdout",
     "output_type": "stream",
     "text": [
      "Data Structures & Algorithms\n",
      "   |__Data Structures\n",
      "      |__Linked List\n",
      "         |__Singly Linked List\n",
      "         |__Doubly Linked List\n",
      "      |__Tree\n",
      "         |__General Tree\n",
      "         |__Binary Tree\n",
      "   |__Algorithms\n",
      "      |__Sorting Algorithms\n",
      "      |__Search Algorithms\n",
      "      |__Recursion\n"
     ]
    }
   ],
   "source": [
    "class TreeNode:\n",
    "    def __init__(self, data):\n",
    "        self.data = data\n",
    "        self.parent = None\n",
    "        self.children = []\n",
    "    \n",
    "    def append_child(self, child):\n",
    "        \"\"\"Append child\"\"\"\n",
    "        child.parent = self\n",
    "        self.children.append(child)\n",
    "\n",
    "    def get_node_level(self):\n",
    "        level = 0\n",
    "        p = self.parent\n",
    "        while p:\n",
    "            level += 1\n",
    "            p = p.parent\n",
    "        return level\n",
    "        \n",
    "\n",
    "    def print_tree(self):\n",
    "        \"\"\"Print tree with prefix\"\"\"\n",
    "        spaces = ' ' * self.get_node_level() * 3\n",
    "        prefix = spaces + '|__' if self.parent else ''\n",
    "        print(prefix + self.data)\n",
    "        \n",
    "        if self.children:\n",
    "            for child in self.children:\n",
    "                child.print_tree()\n",
    "        \n",
    "def build_dsa_tree():\n",
    "    root = TreeNode('Data Structures & Algorithms')\n",
    "    ds = TreeNode('Data Structures')\n",
    "    ll = TreeNode('Linked List')\n",
    "    ll.append_child(TreeNode('Singly Linked List'))\n",
    "    ll.append_child(TreeNode('Doubly Linked List'))\n",
    "    tree = TreeNode('Tree')\n",
    "    tree.append_child(TreeNode('General Tree'))\n",
    "    tree.append_child(TreeNode('Binary Tree'))\n",
    "    ds.append_child(ll)\n",
    "    ds.append_child(tree)\n",
    "    \n",
    "    algo = TreeNode('Algorithms')\n",
    "    algo.append_child(TreeNode('Sorting Algorithms'))\n",
    "    algo.append_child(TreeNode('Search Algorithms'))\n",
    "    algo.append_child(TreeNode('Recursion'))\n",
    "    \n",
    "    root.append_child(ds)\n",
    "    root.append_child(algo)\n",
    "    \n",
    "    return root\n",
    "\n",
    "\n",
    "if __name__ == '__main__':\n",
    "    root_node = build_dsa_tree()\n",
    "    root_node.print_tree()"
   ]
  },
  {
   "cell_type": "markdown",
   "metadata": {},
   "source": [
    "```python\n",
    "    ds = TreeNode('Data Structures')\n",
    "    ll = TreeNode('Linked List')\n",
    "    ll.append_child(TreeNode('Singly Linked List'))\n",
    "    ll.append_child(TreeNode('Doubly Linked List'))\n",
    "    tree = TreeNode('Tree')\n",
    "    tree.append_child(TreeNode('General Tree'))\n",
    "    tree.append_child(TreeNode('Binary Tree'))\n",
    "    ds.append_child(ll)\n",
    "    ds.append_child(tree)\n",
    "    \n",
    "    algo = TreeNode('Algorithms')\n",
    "    algo.append_child(TreeNode('Sorting Algorithms'))\n",
    "    algo.append_child(TreeNode('Search Algorithms'))\n",
    "    algo.append_child(TreeNode('Recursion'))\n",
    "    \n",
    "    root.append_child(ds)\n",
    "    root.append_child(algo)\n",
    "```"
   ]
  },
  {
   "cell_type": "markdown",
   "metadata": {},
   "source": []
  }
 ],
 "metadata": {
  "kernelspec": {
   "display_name": "Python 3",
   "language": "python",
   "name": "python3"
  },
  "language_info": {
   "codemirror_mode": {
    "name": "ipython",
    "version": 3
   },
   "file_extension": ".py",
   "mimetype": "text/x-python",
   "name": "python",
   "nbconvert_exporter": "python",
   "pygments_lexer": "ipython3",
   "version": "3.10.9"
  }
 },
 "nbformat": 4,
 "nbformat_minor": 2
}
