{
 "cells": [
  {
   "cell_type": "markdown",
   "metadata": {},
   "source": [
    "## 🌲 Practice - General Tree Implementation\n",
    "\n",
    "Generate a general tree structure that looks something like this, when printed:\n",
    "\n",
    "\n",
    "```python\n",
    "Data Structures & algorithms\n",
    "   |__Data Structures\n",
    "      |__Linked List\n",
    "         |__Singly Linked List\n",
    "         |__Doubly Linked List\n",
    "      |__Tree\n",
    "         |__General Tree\n",
    "         |__Binary Tree\n",
    "   |__Algorithms\n",
    "      |__Sorting Algorithms\n",
    "      |__Recursion\n",
    "      |__Search Algorithms\n",
    "```"
   ]
  },
  {
   "cell_type": "code",
   "execution_count": null,
   "metadata": {},
   "outputs": [],
   "source": [
    "class TreeNode:\n",
    "    def __init__(self, data):\n",
    "        self.data = data\n",
    "        self.parent = None\n",
    "        self.children = []\n",
    "    \n",
    "    def append_child(self, child):\n",
    "        \"\"\"Append child\"\"\"\n",
    "        child.parent = self\n",
    "        self.children.append(child)\n",
    "\n",
    "    def get_node_level(self):\n",
    "        level = 0\n",
    "        p = self.parent\n",
    "        while p:\n",
    "            level += 1\n",
    "            p = self.parent\n",
    "        return level\n",
    "        \n",
    "\n",
    "    def print_tree(self):\n",
    "        \"\"\"Print tree with prefix\"\"\"\n",
    "        spaces = ' ' * self.get_node_level()\n",
    "        prefix = spaces + '|__' if self.parent else ''\n",
    "        print(prefix+self.data)\n",
    "        \n",
    "        \n",
    "        if self.children:\n",
    "            for child in self.children:\n",
    "                child.print_tree()\n",
    "        \n",
    "def build_dsa_tree():\n",
    "    pass\n",
    "\n",
    "\n",
    "if __name__ == '__main__':\n",
    "    root_node = build_dsa_tree()\n",
    "    root_node.print_tree()"
   ]
  }
 ],
 "metadata": {
  "language_info": {
   "name": "python"
  }
 },
 "nbformat": 4,
 "nbformat_minor": 2
}
