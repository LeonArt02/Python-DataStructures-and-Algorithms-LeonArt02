{
 "cells": [
  {
   "cell_type": "markdown",
   "metadata": {},
   "source": [
    "## 💙 Tree Data Structure\n",
    "\n",
    "### 📝 Tree data structure definition [geekforgeeks](https://www.geeksforgeeks.org/introduction-to-tree-data-structure-and-algorithm-tutorials/) \n",
    "A tree data structure is a hierarchical structure that is used to represent and organize data in a way that is easy to navigate and search.\n",
    "It is a collection of nodes that are connected by **edges** and has a hierarchical relationship between the **nodes**.\n",
    "\n",
    "The topmost node of the tree is called *root*, and the *nodes* below it are called the *child nodes*. Each node can have multiple child nodesm and these child nodes can also have their own child nodes, forming a recursive structure.\n",
    "\n",
    "This data structure is a specialized method to organize and store data in the computer to be used more effectively. It consists of a central node, structural nodes, and sub-nodes, which are connected via edges. We can also say that tree data structure has **roots**, **branches**, and leaves connected with one another.\n",
    "\n",
    "<img title=\"tree\" alt=\"tree\" src=\"./images/Treedatastructure.png\" width=700>\n",
    "\n",
    "### 📝 Terminologies in Tree Data Structure\n",
    "\n",
    "- **Parent Node**: The node which is a predecessor of a node is called the parent node of that node. \n",
    "    - (**[B] is the parent node of [D, E]**).\n",
    "- **Child Node**: The node which is the immediate successor fo a node is called the child node of that node.\n",
    "    - Examples: **[D, E] are the child nodes of [B]**"
   ]
  },
  {
   "cell_type": "code",
   "execution_count": null,
   "metadata": {},
   "outputs": [],
   "source": []
  }
 ],
 "metadata": {
  "language_info": {
   "name": "python"
  }
 },
 "nbformat": 4,
 "nbformat_minor": 2
}
