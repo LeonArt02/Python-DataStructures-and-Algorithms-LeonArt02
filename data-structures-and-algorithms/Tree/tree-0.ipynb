{
 "cells": [
  {
   "cell_type": "markdown",
   "metadata": {},
   "source": [
    "## 💙 Tree Data Structure\n",
    "\n",
    "#### Tree data structure definition [geekforgeeks](https://www.geeksforgeeks.org/introduction-to-tree-data-structure-and-algorithm-tutorials/) \n",
    "A tree data structure is a hierarchical structure that is used to represent and organize data in a way that is easy to navigate and search.\n",
    "It is a collection of nodes that are connected by **edges** and has a hierarchical relationship between the **nodes**.\n",
    "\n",
    "The topmost node of the tree is called *root*, and the *nodes* below it are called the *child nodes*. Each node can have multiple child nodesm and these child nodes can also have their own child nodes, forming a recursive structure.\n",
    "\n"
   ]
  },
  {
   "cell_type": "code",
   "execution_count": null,
   "metadata": {},
   "outputs": [],
   "source": []
  }
 ],
 "metadata": {
  "language_info": {
   "name": "python"
  }
 },
 "nbformat": 4,
 "nbformat_minor": 2
}
