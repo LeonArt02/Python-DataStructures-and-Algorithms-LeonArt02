{
 "cells": [
  {
   "cell_type": "markdown",
   "metadata": {},
   "source": [
    "## 💙 Tree Data Structure\n",
    "\n",
    "### 📝 Tree data structure definition [geekforgeeks](https://www.geeksforgeeks.org/introduction-to-tree-data-structure-and-algorithm-tutorials/) \n",
    "A tree data structure is a hierarchical structure that is used to represent and organize data in a way that is easy to navigate and search.\n",
    "It is a collection of nodes that are connected by **edges** and has a hierarchical relationship between the **nodes**.\n",
    "\n",
    "The topmost node of the tree is called *root*, and the *nodes* below it are called the *child nodes*. Each node can have multiple child nodesm and these child nodes can also have their own child nodes, forming a recursive structure.\n",
    "\n",
    "This data structure is a specialized method to organize and store data in the computer to be used more effectively. It consists of a central node, structural nodes, and sub-nodes, which are connected via edges. We can also say that tree data structure has **roots**, **branches**, and leaves connected with one another.\n",
    "\n",
    "<img title=\"tree\" alt=\"tree\" src=\"./images/Treedatastructure.png\" width=700>\n",
    "\n",
    "### 📝 Terminologies in Tree Data Structure\n",
    "\n",
    "- **Node**: A node is an entity that contains a key or value and pointers to it´s child nodes.\n",
    "    - **[A]** is the *root Node*, **[E]** is an *internal Node*, **[M]** is a *leaf node or external nodes*.\n",
    "- **Parent Node**: The node which is a predecessor of a node is called the parent node of that node. \n",
    "    - (**[B] is the parent node of [D, E]**).\n",
    "- **Child Node**: The node which is the immediate successor fo a node is called the child node of that node.\n",
    "    - Examples: **[D, E] are the child nodes of [B]**.\n",
    "- **Root Node**: The topmost node of a tree or the node which does not have any parent node is called the root node. A non-empty tree must contain exactly one root node and exactly one path from the root to all other nodes of the tree.\n",
    "    - **[A] is the root node of the tree**\n",
    "- **Leaf Node or External Node**: The nodes which do not have any child nodes are called leaf nodes.\n",
    "    - **[K, L, M, N, O, P, G] are the leaf nodes of the tree.**\n",
    "- **Ancestor of a Node**: Any predecessor nodes on the path of the root to that node are called Ancestors of that node.\n",
    "    - **[A, B]** are the ancestor nodes of the node **[E]**\n",
    "- **Descendant**: Any successor node on the path from the leaf node to that node.\n",
    "    - **[E, I]** are the descendants of the node **[B]**.\n",
    "- **Sibling**: Children of the same parent node are called siblings.\n",
    "    - **[D, E]** are the descendants of the node **[B]**.\n",
    "- **Level of a node**: The count of edges on the path from the root node to that node. \n",
    "    - The root node has level 0, **[B, C] belong to level 1**\n",
    "- **Internal node**: A node with at least one child is called Internal Node.\n",
    "- **Subtree**: Any node of the tree along with its descendant."
   ]
  },
  {
   "cell_type": "code",
   "execution_count": null,
   "metadata": {},
   "outputs": [],
   "source": []
  }
 ],
 "metadata": {
  "language_info": {
   "name": "python"
  }
 },
 "nbformat": 4,
 "nbformat_minor": 2
}
